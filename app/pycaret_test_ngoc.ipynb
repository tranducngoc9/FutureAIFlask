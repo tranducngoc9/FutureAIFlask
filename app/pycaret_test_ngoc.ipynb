{
 "cells": [
  {
   "cell_type": "code",
   "execution_count": 7,
   "metadata": {},
   "outputs": [
    {
     "data": {
      "text/html": [
       "<div>\n",
       "<style scoped>\n",
       "    .dataframe tbody tr th:only-of-type {\n",
       "        vertical-align: middle;\n",
       "    }\n",
       "\n",
       "    .dataframe tbody tr th {\n",
       "        vertical-align: top;\n",
       "    }\n",
       "\n",
       "    .dataframe thead th {\n",
       "        text-align: right;\n",
       "    }\n",
       "</style>\n",
       "<table border=\"1\" class=\"dataframe\">\n",
       "  <thead>\n",
       "    <tr style=\"text-align: right;\">\n",
       "      <th></th>\n",
       "      <th>Date</th>\n",
       "      <th>#Passengers</th>\n",
       "    </tr>\n",
       "  </thead>\n",
       "  <tbody>\n",
       "    <tr>\n",
       "      <th>0</th>\n",
       "      <td>1949-01-01</td>\n",
       "      <td>112</td>\n",
       "    </tr>\n",
       "    <tr>\n",
       "      <th>1</th>\n",
       "      <td>1949-02-01</td>\n",
       "      <td>118</td>\n",
       "    </tr>\n",
       "    <tr>\n",
       "      <th>2</th>\n",
       "      <td>1949-03-01</td>\n",
       "      <td>132</td>\n",
       "    </tr>\n",
       "    <tr>\n",
       "      <th>3</th>\n",
       "      <td>1949-04-01</td>\n",
       "      <td>129</td>\n",
       "    </tr>\n",
       "    <tr>\n",
       "      <th>4</th>\n",
       "      <td>1949-05-01</td>\n",
       "      <td>121</td>\n",
       "    </tr>\n",
       "  </tbody>\n",
       "</table>\n",
       "</div>"
      ],
      "text/plain": [
       "        Date  #Passengers\n",
       "0 1949-01-01          112\n",
       "1 1949-02-01          118\n",
       "2 1949-03-01          132\n",
       "3 1949-04-01          129\n",
       "4 1949-05-01          121"
      ]
     },
     "execution_count": 7,
     "metadata": {},
     "output_type": "execute_result"
    }
   ],
   "source": [
    "# read csv file\n",
    "import pandas as pd\n",
    "data = pd.read_csv('AirPassengers.csv')\n",
    "# data\n",
    "data['Date'] = pd.to_datetime(data['Date'])\n",
    "data.head()"
   ]
  },
  {
   "cell_type": "code",
   "execution_count": 6,
   "metadata": {},
   "outputs": [
    {
     "data": {
      "text/plain": [
       "'Date'"
      ]
     },
     "execution_count": 6,
     "metadata": {},
     "output_type": "execute_result"
    }
   ],
   "source": [
    "a = pd.read_csv('AirPassengers.csv')\n",
    "a.columns[0]"
   ]
  },
  {
   "cell_type": "code",
   "execution_count": 8,
   "metadata": {},
   "outputs": [
    {
     "data": {
      "text/html": [
       "<div>\n",
       "<style scoped>\n",
       "    .dataframe tbody tr th:only-of-type {\n",
       "        vertical-align: middle;\n",
       "    }\n",
       "\n",
       "    .dataframe tbody tr th {\n",
       "        vertical-align: top;\n",
       "    }\n",
       "\n",
       "    .dataframe thead th {\n",
       "        text-align: right;\n",
       "    }\n",
       "</style>\n",
       "<table border=\"1\" class=\"dataframe\">\n",
       "  <thead>\n",
       "    <tr style=\"text-align: right;\">\n",
       "      <th></th>\n",
       "      <th>Date</th>\n",
       "      <th>#Passengers</th>\n",
       "      <th>Month</th>\n",
       "      <th>Year</th>\n",
       "      <th>Series</th>\n",
       "    </tr>\n",
       "  </thead>\n",
       "  <tbody>\n",
       "    <tr>\n",
       "      <th>0</th>\n",
       "      <td>1949-01-01</td>\n",
       "      <td>112</td>\n",
       "      <td>1</td>\n",
       "      <td>1949</td>\n",
       "      <td>1</td>\n",
       "    </tr>\n",
       "    <tr>\n",
       "      <th>1</th>\n",
       "      <td>1949-02-01</td>\n",
       "      <td>118</td>\n",
       "      <td>2</td>\n",
       "      <td>1949</td>\n",
       "      <td>2</td>\n",
       "    </tr>\n",
       "    <tr>\n",
       "      <th>2</th>\n",
       "      <td>1949-03-01</td>\n",
       "      <td>132</td>\n",
       "      <td>3</td>\n",
       "      <td>1949</td>\n",
       "      <td>3</td>\n",
       "    </tr>\n",
       "    <tr>\n",
       "      <th>3</th>\n",
       "      <td>1949-04-01</td>\n",
       "      <td>129</td>\n",
       "      <td>4</td>\n",
       "      <td>1949</td>\n",
       "      <td>4</td>\n",
       "    </tr>\n",
       "    <tr>\n",
       "      <th>4</th>\n",
       "      <td>1949-05-01</td>\n",
       "      <td>121</td>\n",
       "      <td>5</td>\n",
       "      <td>1949</td>\n",
       "      <td>5</td>\n",
       "    </tr>\n",
       "    <tr>\n",
       "      <th>5</th>\n",
       "      <td>1949-06-01</td>\n",
       "      <td>135</td>\n",
       "      <td>6</td>\n",
       "      <td>1949</td>\n",
       "      <td>6</td>\n",
       "    </tr>\n",
       "    <tr>\n",
       "      <th>6</th>\n",
       "      <td>1949-07-01</td>\n",
       "      <td>148</td>\n",
       "      <td>7</td>\n",
       "      <td>1949</td>\n",
       "      <td>7</td>\n",
       "    </tr>\n",
       "    <tr>\n",
       "      <th>7</th>\n",
       "      <td>1949-08-01</td>\n",
       "      <td>148</td>\n",
       "      <td>8</td>\n",
       "      <td>1949</td>\n",
       "      <td>8</td>\n",
       "    </tr>\n",
       "    <tr>\n",
       "      <th>8</th>\n",
       "      <td>1949-09-01</td>\n",
       "      <td>136</td>\n",
       "      <td>9</td>\n",
       "      <td>1949</td>\n",
       "      <td>9</td>\n",
       "    </tr>\n",
       "    <tr>\n",
       "      <th>9</th>\n",
       "      <td>1949-10-01</td>\n",
       "      <td>119</td>\n",
       "      <td>10</td>\n",
       "      <td>1949</td>\n",
       "      <td>10</td>\n",
       "    </tr>\n",
       "    <tr>\n",
       "      <th>10</th>\n",
       "      <td>1949-11-01</td>\n",
       "      <td>104</td>\n",
       "      <td>11</td>\n",
       "      <td>1949</td>\n",
       "      <td>11</td>\n",
       "    </tr>\n",
       "    <tr>\n",
       "      <th>11</th>\n",
       "      <td>1949-12-01</td>\n",
       "      <td>118</td>\n",
       "      <td>12</td>\n",
       "      <td>1949</td>\n",
       "      <td>12</td>\n",
       "    </tr>\n",
       "    <tr>\n",
       "      <th>12</th>\n",
       "      <td>1950-01-01</td>\n",
       "      <td>115</td>\n",
       "      <td>1</td>\n",
       "      <td>1950</td>\n",
       "      <td>13</td>\n",
       "    </tr>\n",
       "    <tr>\n",
       "      <th>13</th>\n",
       "      <td>1950-02-01</td>\n",
       "      <td>126</td>\n",
       "      <td>2</td>\n",
       "      <td>1950</td>\n",
       "      <td>14</td>\n",
       "    </tr>\n",
       "    <tr>\n",
       "      <th>14</th>\n",
       "      <td>1950-03-01</td>\n",
       "      <td>141</td>\n",
       "      <td>3</td>\n",
       "      <td>1950</td>\n",
       "      <td>15</td>\n",
       "    </tr>\n",
       "    <tr>\n",
       "      <th>15</th>\n",
       "      <td>1950-04-01</td>\n",
       "      <td>135</td>\n",
       "      <td>4</td>\n",
       "      <td>1950</td>\n",
       "      <td>16</td>\n",
       "    </tr>\n",
       "    <tr>\n",
       "      <th>16</th>\n",
       "      <td>1950-05-01</td>\n",
       "      <td>125</td>\n",
       "      <td>5</td>\n",
       "      <td>1950</td>\n",
       "      <td>17</td>\n",
       "    </tr>\n",
       "    <tr>\n",
       "      <th>17</th>\n",
       "      <td>1950-06-01</td>\n",
       "      <td>149</td>\n",
       "      <td>6</td>\n",
       "      <td>1950</td>\n",
       "      <td>18</td>\n",
       "    </tr>\n",
       "    <tr>\n",
       "      <th>18</th>\n",
       "      <td>1950-07-01</td>\n",
       "      <td>170</td>\n",
       "      <td>7</td>\n",
       "      <td>1950</td>\n",
       "      <td>19</td>\n",
       "    </tr>\n",
       "    <tr>\n",
       "      <th>19</th>\n",
       "      <td>1950-08-01</td>\n",
       "      <td>170</td>\n",
       "      <td>8</td>\n",
       "      <td>1950</td>\n",
       "      <td>20</td>\n",
       "    </tr>\n",
       "    <tr>\n",
       "      <th>20</th>\n",
       "      <td>1950-09-01</td>\n",
       "      <td>158</td>\n",
       "      <td>9</td>\n",
       "      <td>1950</td>\n",
       "      <td>21</td>\n",
       "    </tr>\n",
       "    <tr>\n",
       "      <th>21</th>\n",
       "      <td>1950-10-01</td>\n",
       "      <td>133</td>\n",
       "      <td>10</td>\n",
       "      <td>1950</td>\n",
       "      <td>22</td>\n",
       "    </tr>\n",
       "    <tr>\n",
       "      <th>22</th>\n",
       "      <td>1950-11-01</td>\n",
       "      <td>114</td>\n",
       "      <td>11</td>\n",
       "      <td>1950</td>\n",
       "      <td>23</td>\n",
       "    </tr>\n",
       "    <tr>\n",
       "      <th>23</th>\n",
       "      <td>1950-12-01</td>\n",
       "      <td>140</td>\n",
       "      <td>12</td>\n",
       "      <td>1950</td>\n",
       "      <td>24</td>\n",
       "    </tr>\n",
       "    <tr>\n",
       "      <th>24</th>\n",
       "      <td>1951-01-01</td>\n",
       "      <td>145</td>\n",
       "      <td>1</td>\n",
       "      <td>1951</td>\n",
       "      <td>25</td>\n",
       "    </tr>\n",
       "    <tr>\n",
       "      <th>25</th>\n",
       "      <td>1951-02-01</td>\n",
       "      <td>150</td>\n",
       "      <td>2</td>\n",
       "      <td>1951</td>\n",
       "      <td>26</td>\n",
       "    </tr>\n",
       "    <tr>\n",
       "      <th>26</th>\n",
       "      <td>1951-03-01</td>\n",
       "      <td>178</td>\n",
       "      <td>3</td>\n",
       "      <td>1951</td>\n",
       "      <td>27</td>\n",
       "    </tr>\n",
       "    <tr>\n",
       "      <th>27</th>\n",
       "      <td>1951-04-01</td>\n",
       "      <td>163</td>\n",
       "      <td>4</td>\n",
       "      <td>1951</td>\n",
       "      <td>28</td>\n",
       "    </tr>\n",
       "    <tr>\n",
       "      <th>28</th>\n",
       "      <td>1951-05-01</td>\n",
       "      <td>172</td>\n",
       "      <td>5</td>\n",
       "      <td>1951</td>\n",
       "      <td>29</td>\n",
       "    </tr>\n",
       "    <tr>\n",
       "      <th>29</th>\n",
       "      <td>1951-06-01</td>\n",
       "      <td>178</td>\n",
       "      <td>6</td>\n",
       "      <td>1951</td>\n",
       "      <td>30</td>\n",
       "    </tr>\n",
       "    <tr>\n",
       "      <th>30</th>\n",
       "      <td>1951-07-01</td>\n",
       "      <td>199</td>\n",
       "      <td>7</td>\n",
       "      <td>1951</td>\n",
       "      <td>31</td>\n",
       "    </tr>\n",
       "    <tr>\n",
       "      <th>31</th>\n",
       "      <td>1951-08-01</td>\n",
       "      <td>199</td>\n",
       "      <td>8</td>\n",
       "      <td>1951</td>\n",
       "      <td>32</td>\n",
       "    </tr>\n",
       "    <tr>\n",
       "      <th>32</th>\n",
       "      <td>1951-09-01</td>\n",
       "      <td>184</td>\n",
       "      <td>9</td>\n",
       "      <td>1951</td>\n",
       "      <td>33</td>\n",
       "    </tr>\n",
       "    <tr>\n",
       "      <th>33</th>\n",
       "      <td>1951-10-01</td>\n",
       "      <td>162</td>\n",
       "      <td>10</td>\n",
       "      <td>1951</td>\n",
       "      <td>34</td>\n",
       "    </tr>\n",
       "    <tr>\n",
       "      <th>34</th>\n",
       "      <td>1951-11-01</td>\n",
       "      <td>146</td>\n",
       "      <td>11</td>\n",
       "      <td>1951</td>\n",
       "      <td>35</td>\n",
       "    </tr>\n",
       "    <tr>\n",
       "      <th>35</th>\n",
       "      <td>1951-12-01</td>\n",
       "      <td>166</td>\n",
       "      <td>12</td>\n",
       "      <td>1951</td>\n",
       "      <td>36</td>\n",
       "    </tr>\n",
       "    <tr>\n",
       "      <th>36</th>\n",
       "      <td>1952-01-01</td>\n",
       "      <td>171</td>\n",
       "      <td>1</td>\n",
       "      <td>1952</td>\n",
       "      <td>37</td>\n",
       "    </tr>\n",
       "    <tr>\n",
       "      <th>37</th>\n",
       "      <td>1952-02-01</td>\n",
       "      <td>180</td>\n",
       "      <td>2</td>\n",
       "      <td>1952</td>\n",
       "      <td>38</td>\n",
       "    </tr>\n",
       "    <tr>\n",
       "      <th>38</th>\n",
       "      <td>1952-03-01</td>\n",
       "      <td>193</td>\n",
       "      <td>3</td>\n",
       "      <td>1952</td>\n",
       "      <td>39</td>\n",
       "    </tr>\n",
       "    <tr>\n",
       "      <th>39</th>\n",
       "      <td>1952-04-01</td>\n",
       "      <td>181</td>\n",
       "      <td>4</td>\n",
       "      <td>1952</td>\n",
       "      <td>40</td>\n",
       "    </tr>\n",
       "    <tr>\n",
       "      <th>40</th>\n",
       "      <td>1952-05-01</td>\n",
       "      <td>183</td>\n",
       "      <td>5</td>\n",
       "      <td>1952</td>\n",
       "      <td>41</td>\n",
       "    </tr>\n",
       "    <tr>\n",
       "      <th>41</th>\n",
       "      <td>1952-06-01</td>\n",
       "      <td>218</td>\n",
       "      <td>6</td>\n",
       "      <td>1952</td>\n",
       "      <td>42</td>\n",
       "    </tr>\n",
       "    <tr>\n",
       "      <th>42</th>\n",
       "      <td>1952-07-01</td>\n",
       "      <td>230</td>\n",
       "      <td>7</td>\n",
       "      <td>1952</td>\n",
       "      <td>43</td>\n",
       "    </tr>\n",
       "    <tr>\n",
       "      <th>43</th>\n",
       "      <td>1952-08-01</td>\n",
       "      <td>242</td>\n",
       "      <td>8</td>\n",
       "      <td>1952</td>\n",
       "      <td>44</td>\n",
       "    </tr>\n",
       "    <tr>\n",
       "      <th>44</th>\n",
       "      <td>1952-09-01</td>\n",
       "      <td>209</td>\n",
       "      <td>9</td>\n",
       "      <td>1952</td>\n",
       "      <td>45</td>\n",
       "    </tr>\n",
       "    <tr>\n",
       "      <th>45</th>\n",
       "      <td>1952-10-01</td>\n",
       "      <td>191</td>\n",
       "      <td>10</td>\n",
       "      <td>1952</td>\n",
       "      <td>46</td>\n",
       "    </tr>\n",
       "    <tr>\n",
       "      <th>46</th>\n",
       "      <td>1952-11-01</td>\n",
       "      <td>172</td>\n",
       "      <td>11</td>\n",
       "      <td>1952</td>\n",
       "      <td>47</td>\n",
       "    </tr>\n",
       "    <tr>\n",
       "      <th>47</th>\n",
       "      <td>1952-12-01</td>\n",
       "      <td>194</td>\n",
       "      <td>12</td>\n",
       "      <td>1952</td>\n",
       "      <td>48</td>\n",
       "    </tr>\n",
       "    <tr>\n",
       "      <th>48</th>\n",
       "      <td>1953-01-01</td>\n",
       "      <td>196</td>\n",
       "      <td>1</td>\n",
       "      <td>1953</td>\n",
       "      <td>49</td>\n",
       "    </tr>\n",
       "    <tr>\n",
       "      <th>49</th>\n",
       "      <td>1953-02-01</td>\n",
       "      <td>196</td>\n",
       "      <td>2</td>\n",
       "      <td>1953</td>\n",
       "      <td>50</td>\n",
       "    </tr>\n",
       "    <tr>\n",
       "      <th>50</th>\n",
       "      <td>1953-03-01</td>\n",
       "      <td>236</td>\n",
       "      <td>3</td>\n",
       "      <td>1953</td>\n",
       "      <td>51</td>\n",
       "    </tr>\n",
       "    <tr>\n",
       "      <th>51</th>\n",
       "      <td>1953-04-01</td>\n",
       "      <td>235</td>\n",
       "      <td>4</td>\n",
       "      <td>1953</td>\n",
       "      <td>52</td>\n",
       "    </tr>\n",
       "    <tr>\n",
       "      <th>52</th>\n",
       "      <td>1953-05-01</td>\n",
       "      <td>229</td>\n",
       "      <td>5</td>\n",
       "      <td>1953</td>\n",
       "      <td>53</td>\n",
       "    </tr>\n",
       "    <tr>\n",
       "      <th>53</th>\n",
       "      <td>1953-06-01</td>\n",
       "      <td>243</td>\n",
       "      <td>6</td>\n",
       "      <td>1953</td>\n",
       "      <td>54</td>\n",
       "    </tr>\n",
       "    <tr>\n",
       "      <th>54</th>\n",
       "      <td>1953-07-01</td>\n",
       "      <td>264</td>\n",
       "      <td>7</td>\n",
       "      <td>1953</td>\n",
       "      <td>55</td>\n",
       "    </tr>\n",
       "    <tr>\n",
       "      <th>55</th>\n",
       "      <td>1953-08-01</td>\n",
       "      <td>272</td>\n",
       "      <td>8</td>\n",
       "      <td>1953</td>\n",
       "      <td>56</td>\n",
       "    </tr>\n",
       "    <tr>\n",
       "      <th>56</th>\n",
       "      <td>1953-09-01</td>\n",
       "      <td>237</td>\n",
       "      <td>9</td>\n",
       "      <td>1953</td>\n",
       "      <td>57</td>\n",
       "    </tr>\n",
       "    <tr>\n",
       "      <th>57</th>\n",
       "      <td>1953-10-01</td>\n",
       "      <td>211</td>\n",
       "      <td>10</td>\n",
       "      <td>1953</td>\n",
       "      <td>58</td>\n",
       "    </tr>\n",
       "    <tr>\n",
       "      <th>58</th>\n",
       "      <td>1953-11-01</td>\n",
       "      <td>180</td>\n",
       "      <td>11</td>\n",
       "      <td>1953</td>\n",
       "      <td>59</td>\n",
       "    </tr>\n",
       "  </tbody>\n",
       "</table>\n",
       "</div>"
      ],
      "text/plain": [
       "         Date  #Passengers  Month  Year  Series\n",
       "0  1949-01-01          112      1  1949       1\n",
       "1  1949-02-01          118      2  1949       2\n",
       "2  1949-03-01          132      3  1949       3\n",
       "3  1949-04-01          129      4  1949       4\n",
       "4  1949-05-01          121      5  1949       5\n",
       "5  1949-06-01          135      6  1949       6\n",
       "6  1949-07-01          148      7  1949       7\n",
       "7  1949-08-01          148      8  1949       8\n",
       "8  1949-09-01          136      9  1949       9\n",
       "9  1949-10-01          119     10  1949      10\n",
       "10 1949-11-01          104     11  1949      11\n",
       "11 1949-12-01          118     12  1949      12\n",
       "12 1950-01-01          115      1  1950      13\n",
       "13 1950-02-01          126      2  1950      14\n",
       "14 1950-03-01          141      3  1950      15\n",
       "15 1950-04-01          135      4  1950      16\n",
       "16 1950-05-01          125      5  1950      17\n",
       "17 1950-06-01          149      6  1950      18\n",
       "18 1950-07-01          170      7  1950      19\n",
       "19 1950-08-01          170      8  1950      20\n",
       "20 1950-09-01          158      9  1950      21\n",
       "21 1950-10-01          133     10  1950      22\n",
       "22 1950-11-01          114     11  1950      23\n",
       "23 1950-12-01          140     12  1950      24\n",
       "24 1951-01-01          145      1  1951      25\n",
       "25 1951-02-01          150      2  1951      26\n",
       "26 1951-03-01          178      3  1951      27\n",
       "27 1951-04-01          163      4  1951      28\n",
       "28 1951-05-01          172      5  1951      29\n",
       "29 1951-06-01          178      6  1951      30\n",
       "30 1951-07-01          199      7  1951      31\n",
       "31 1951-08-01          199      8  1951      32\n",
       "32 1951-09-01          184      9  1951      33\n",
       "33 1951-10-01          162     10  1951      34\n",
       "34 1951-11-01          146     11  1951      35\n",
       "35 1951-12-01          166     12  1951      36\n",
       "36 1952-01-01          171      1  1952      37\n",
       "37 1952-02-01          180      2  1952      38\n",
       "38 1952-03-01          193      3  1952      39\n",
       "39 1952-04-01          181      4  1952      40\n",
       "40 1952-05-01          183      5  1952      41\n",
       "41 1952-06-01          218      6  1952      42\n",
       "42 1952-07-01          230      7  1952      43\n",
       "43 1952-08-01          242      8  1952      44\n",
       "44 1952-09-01          209      9  1952      45\n",
       "45 1952-10-01          191     10  1952      46\n",
       "46 1952-11-01          172     11  1952      47\n",
       "47 1952-12-01          194     12  1952      48\n",
       "48 1953-01-01          196      1  1953      49\n",
       "49 1953-02-01          196      2  1953      50\n",
       "50 1953-03-01          236      3  1953      51\n",
       "51 1953-04-01          235      4  1953      52\n",
       "52 1953-05-01          229      5  1953      53\n",
       "53 1953-06-01          243      6  1953      54\n",
       "54 1953-07-01          264      7  1953      55\n",
       "55 1953-08-01          272      8  1953      56\n",
       "56 1953-09-01          237      9  1953      57\n",
       "57 1953-10-01          211     10  1953      58\n",
       "58 1953-11-01          180     11  1953      59"
      ]
     },
     "execution_count": 8,
     "metadata": {},
     "output_type": "execute_result"
    }
   ],
   "source": [
    "import numpy as np\n",
    "# extract month and year from dates**\n",
    "data['Month'] = [i.month for i in data['Date']]\n",
    "data['Year'] = [i.year for i in data['Date']]\n",
    "\n",
    "# create a sequence of numbers\n",
    "data['Series'] = np.arange(1,len(data)+1)\n",
    "\n",
    "\n",
    "# check the head of the dataset**\n",
    "data"
   ]
  },
  {
   "cell_type": "code",
   "execution_count": 9,
   "metadata": {},
   "outputs": [
    {
     "data": {
      "text/plain": [
       "((48, 5), (11, 5))"
      ]
     },
     "execution_count": 9,
     "metadata": {},
     "output_type": "execute_result"
    }
   ],
   "source": [
    "# split data into train-test set\n",
    "train = data[data['Year'] < 1953]\n",
    "test = data[data['Year'] >= 1953]\n",
    "\n",
    "# check shape\n",
    "train.shape, test.shape"
   ]
  },
  {
   "cell_type": "code",
   "execution_count": 4,
   "metadata": {},
   "outputs": [
    {
     "data": {
      "text/html": [
       "<style type=\"text/css\">\n",
       "#T_173c3_row42_col1, #T_173c3_row56_col1 {\n",
       "  background-color: lightgreen;\n",
       "}\n",
       "</style>\n",
       "<table id=\"T_173c3_\">\n",
       "  <thead>\n",
       "    <tr>\n",
       "      <th class=\"blank level0\" >&nbsp;</th>\n",
       "      <th class=\"col_heading level0 col0\" >Description</th>\n",
       "      <th class=\"col_heading level0 col1\" >Value</th>\n",
       "    </tr>\n",
       "  </thead>\n",
       "  <tbody>\n",
       "    <tr>\n",
       "      <th id=\"T_173c3_level0_row0\" class=\"row_heading level0 row0\" >0</th>\n",
       "      <td id=\"T_173c3_row0_col0\" class=\"data row0 col0\" >session_id</td>\n",
       "      <td id=\"T_173c3_row0_col1\" class=\"data row0 col1\" >123</td>\n",
       "    </tr>\n",
       "    <tr>\n",
       "      <th id=\"T_173c3_level0_row1\" class=\"row_heading level0 row1\" >1</th>\n",
       "      <td id=\"T_173c3_row1_col0\" class=\"data row1 col0\" >Target</td>\n",
       "      <td id=\"T_173c3_row1_col1\" class=\"data row1 col1\" >#Passengers</td>\n",
       "    </tr>\n",
       "    <tr>\n",
       "      <th id=\"T_173c3_level0_row2\" class=\"row_heading level0 row2\" >2</th>\n",
       "      <td id=\"T_173c3_row2_col0\" class=\"data row2 col0\" >Original Data</td>\n",
       "      <td id=\"T_173c3_row2_col1\" class=\"data row2 col1\" >(48, 5)</td>\n",
       "    </tr>\n",
       "    <tr>\n",
       "      <th id=\"T_173c3_level0_row3\" class=\"row_heading level0 row3\" >3</th>\n",
       "      <td id=\"T_173c3_row3_col0\" class=\"data row3 col0\" >Missing Values</td>\n",
       "      <td id=\"T_173c3_row3_col1\" class=\"data row3 col1\" >False</td>\n",
       "    </tr>\n",
       "    <tr>\n",
       "      <th id=\"T_173c3_level0_row4\" class=\"row_heading level0 row4\" >4</th>\n",
       "      <td id=\"T_173c3_row4_col0\" class=\"data row4 col0\" >Numeric Features</td>\n",
       "      <td id=\"T_173c3_row4_col1\" class=\"data row4 col1\" >2</td>\n",
       "    </tr>\n",
       "    <tr>\n",
       "      <th id=\"T_173c3_level0_row5\" class=\"row_heading level0 row5\" >5</th>\n",
       "      <td id=\"T_173c3_row5_col0\" class=\"data row5 col0\" >Categorical Features</td>\n",
       "      <td id=\"T_173c3_row5_col1\" class=\"data row5 col1\" >1</td>\n",
       "    </tr>\n",
       "    <tr>\n",
       "      <th id=\"T_173c3_level0_row6\" class=\"row_heading level0 row6\" >6</th>\n",
       "      <td id=\"T_173c3_row6_col0\" class=\"data row6 col0\" >Ordinal Features</td>\n",
       "      <td id=\"T_173c3_row6_col1\" class=\"data row6 col1\" >False</td>\n",
       "    </tr>\n",
       "    <tr>\n",
       "      <th id=\"T_173c3_level0_row7\" class=\"row_heading level0 row7\" >7</th>\n",
       "      <td id=\"T_173c3_row7_col0\" class=\"data row7 col0\" >High Cardinality Features</td>\n",
       "      <td id=\"T_173c3_row7_col1\" class=\"data row7 col1\" >False</td>\n",
       "    </tr>\n",
       "    <tr>\n",
       "      <th id=\"T_173c3_level0_row8\" class=\"row_heading level0 row8\" >8</th>\n",
       "      <td id=\"T_173c3_row8_col0\" class=\"data row8 col0\" >High Cardinality Method</td>\n",
       "      <td id=\"T_173c3_row8_col1\" class=\"data row8 col1\" >None</td>\n",
       "    </tr>\n",
       "    <tr>\n",
       "      <th id=\"T_173c3_level0_row9\" class=\"row_heading level0 row9\" >9</th>\n",
       "      <td id=\"T_173c3_row9_col0\" class=\"data row9 col0\" >Transformed Train Set</td>\n",
       "      <td id=\"T_173c3_row9_col1\" class=\"data row9 col1\" >(48, 23)</td>\n",
       "    </tr>\n",
       "    <tr>\n",
       "      <th id=\"T_173c3_level0_row10\" class=\"row_heading level0 row10\" >10</th>\n",
       "      <td id=\"T_173c3_row10_col0\" class=\"data row10 col0\" >Transformed Test Set</td>\n",
       "      <td id=\"T_173c3_row10_col1\" class=\"data row10 col1\" >(11, 23)</td>\n",
       "    </tr>\n",
       "    <tr>\n",
       "      <th id=\"T_173c3_level0_row11\" class=\"row_heading level0 row11\" >11</th>\n",
       "      <td id=\"T_173c3_row11_col0\" class=\"data row11 col0\" >Shuffle Train-Test</td>\n",
       "      <td id=\"T_173c3_row11_col1\" class=\"data row11 col1\" >True</td>\n",
       "    </tr>\n",
       "    <tr>\n",
       "      <th id=\"T_173c3_level0_row12\" class=\"row_heading level0 row12\" >12</th>\n",
       "      <td id=\"T_173c3_row12_col0\" class=\"data row12 col0\" >Stratify Train-Test</td>\n",
       "      <td id=\"T_173c3_row12_col1\" class=\"data row12 col1\" >False</td>\n",
       "    </tr>\n",
       "    <tr>\n",
       "      <th id=\"T_173c3_level0_row13\" class=\"row_heading level0 row13\" >13</th>\n",
       "      <td id=\"T_173c3_row13_col0\" class=\"data row13 col0\" >Fold Generator</td>\n",
       "      <td id=\"T_173c3_row13_col1\" class=\"data row13 col1\" >TimeSeriesSplit</td>\n",
       "    </tr>\n",
       "    <tr>\n",
       "      <th id=\"T_173c3_level0_row14\" class=\"row_heading level0 row14\" >14</th>\n",
       "      <td id=\"T_173c3_row14_col0\" class=\"data row14 col0\" >Fold Number</td>\n",
       "      <td id=\"T_173c3_row14_col1\" class=\"data row14 col1\" >3</td>\n",
       "    </tr>\n",
       "    <tr>\n",
       "      <th id=\"T_173c3_level0_row15\" class=\"row_heading level0 row15\" >15</th>\n",
       "      <td id=\"T_173c3_row15_col0\" class=\"data row15 col0\" >CPU Jobs</td>\n",
       "      <td id=\"T_173c3_row15_col1\" class=\"data row15 col1\" >-1</td>\n",
       "    </tr>\n",
       "    <tr>\n",
       "      <th id=\"T_173c3_level0_row16\" class=\"row_heading level0 row16\" >16</th>\n",
       "      <td id=\"T_173c3_row16_col0\" class=\"data row16 col0\" >Use GPU</td>\n",
       "      <td id=\"T_173c3_row16_col1\" class=\"data row16 col1\" >False</td>\n",
       "    </tr>\n",
       "    <tr>\n",
       "      <th id=\"T_173c3_level0_row17\" class=\"row_heading level0 row17\" >17</th>\n",
       "      <td id=\"T_173c3_row17_col0\" class=\"data row17 col0\" >Log Experiment</td>\n",
       "      <td id=\"T_173c3_row17_col1\" class=\"data row17 col1\" >False</td>\n",
       "    </tr>\n",
       "    <tr>\n",
       "      <th id=\"T_173c3_level0_row18\" class=\"row_heading level0 row18\" >18</th>\n",
       "      <td id=\"T_173c3_row18_col0\" class=\"data row18 col0\" >Experiment Name</td>\n",
       "      <td id=\"T_173c3_row18_col1\" class=\"data row18 col1\" >reg-default-name</td>\n",
       "    </tr>\n",
       "    <tr>\n",
       "      <th id=\"T_173c3_level0_row19\" class=\"row_heading level0 row19\" >19</th>\n",
       "      <td id=\"T_173c3_row19_col0\" class=\"data row19 col0\" >USI</td>\n",
       "      <td id=\"T_173c3_row19_col1\" class=\"data row19 col1\" >3e41</td>\n",
       "    </tr>\n",
       "    <tr>\n",
       "      <th id=\"T_173c3_level0_row20\" class=\"row_heading level0 row20\" >20</th>\n",
       "      <td id=\"T_173c3_row20_col0\" class=\"data row20 col0\" >Imputation Type</td>\n",
       "      <td id=\"T_173c3_row20_col1\" class=\"data row20 col1\" >simple</td>\n",
       "    </tr>\n",
       "    <tr>\n",
       "      <th id=\"T_173c3_level0_row21\" class=\"row_heading level0 row21\" >21</th>\n",
       "      <td id=\"T_173c3_row21_col0\" class=\"data row21 col0\" >Iterative Imputation Iteration</td>\n",
       "      <td id=\"T_173c3_row21_col1\" class=\"data row21 col1\" >None</td>\n",
       "    </tr>\n",
       "    <tr>\n",
       "      <th id=\"T_173c3_level0_row22\" class=\"row_heading level0 row22\" >22</th>\n",
       "      <td id=\"T_173c3_row22_col0\" class=\"data row22 col0\" >Numeric Imputer</td>\n",
       "      <td id=\"T_173c3_row22_col1\" class=\"data row22 col1\" >mean</td>\n",
       "    </tr>\n",
       "    <tr>\n",
       "      <th id=\"T_173c3_level0_row23\" class=\"row_heading level0 row23\" >23</th>\n",
       "      <td id=\"T_173c3_row23_col0\" class=\"data row23 col0\" >Iterative Imputation Numeric Model</td>\n",
       "      <td id=\"T_173c3_row23_col1\" class=\"data row23 col1\" >None</td>\n",
       "    </tr>\n",
       "    <tr>\n",
       "      <th id=\"T_173c3_level0_row24\" class=\"row_heading level0 row24\" >24</th>\n",
       "      <td id=\"T_173c3_row24_col0\" class=\"data row24 col0\" >Categorical Imputer</td>\n",
       "      <td id=\"T_173c3_row24_col1\" class=\"data row24 col1\" >constant</td>\n",
       "    </tr>\n",
       "    <tr>\n",
       "      <th id=\"T_173c3_level0_row25\" class=\"row_heading level0 row25\" >25</th>\n",
       "      <td id=\"T_173c3_row25_col0\" class=\"data row25 col0\" >Iterative Imputation Categorical Model</td>\n",
       "      <td id=\"T_173c3_row25_col1\" class=\"data row25 col1\" >None</td>\n",
       "    </tr>\n",
       "    <tr>\n",
       "      <th id=\"T_173c3_level0_row26\" class=\"row_heading level0 row26\" >26</th>\n",
       "      <td id=\"T_173c3_row26_col0\" class=\"data row26 col0\" >Unknown Categoricals Handling</td>\n",
       "      <td id=\"T_173c3_row26_col1\" class=\"data row26 col1\" >least_frequent</td>\n",
       "    </tr>\n",
       "    <tr>\n",
       "      <th id=\"T_173c3_level0_row27\" class=\"row_heading level0 row27\" >27</th>\n",
       "      <td id=\"T_173c3_row27_col0\" class=\"data row27 col0\" >Normalize</td>\n",
       "      <td id=\"T_173c3_row27_col1\" class=\"data row27 col1\" >False</td>\n",
       "    </tr>\n",
       "    <tr>\n",
       "      <th id=\"T_173c3_level0_row28\" class=\"row_heading level0 row28\" >28</th>\n",
       "      <td id=\"T_173c3_row28_col0\" class=\"data row28 col0\" >Normalize Method</td>\n",
       "      <td id=\"T_173c3_row28_col1\" class=\"data row28 col1\" >None</td>\n",
       "    </tr>\n",
       "    <tr>\n",
       "      <th id=\"T_173c3_level0_row29\" class=\"row_heading level0 row29\" >29</th>\n",
       "      <td id=\"T_173c3_row29_col0\" class=\"data row29 col0\" >Transformation</td>\n",
       "      <td id=\"T_173c3_row29_col1\" class=\"data row29 col1\" >False</td>\n",
       "    </tr>\n",
       "    <tr>\n",
       "      <th id=\"T_173c3_level0_row30\" class=\"row_heading level0 row30\" >30</th>\n",
       "      <td id=\"T_173c3_row30_col0\" class=\"data row30 col0\" >Transformation Method</td>\n",
       "      <td id=\"T_173c3_row30_col1\" class=\"data row30 col1\" >None</td>\n",
       "    </tr>\n",
       "    <tr>\n",
       "      <th id=\"T_173c3_level0_row31\" class=\"row_heading level0 row31\" >31</th>\n",
       "      <td id=\"T_173c3_row31_col0\" class=\"data row31 col0\" >PCA</td>\n",
       "      <td id=\"T_173c3_row31_col1\" class=\"data row31 col1\" >False</td>\n",
       "    </tr>\n",
       "    <tr>\n",
       "      <th id=\"T_173c3_level0_row32\" class=\"row_heading level0 row32\" >32</th>\n",
       "      <td id=\"T_173c3_row32_col0\" class=\"data row32 col0\" >PCA Method</td>\n",
       "      <td id=\"T_173c3_row32_col1\" class=\"data row32 col1\" >None</td>\n",
       "    </tr>\n",
       "    <tr>\n",
       "      <th id=\"T_173c3_level0_row33\" class=\"row_heading level0 row33\" >33</th>\n",
       "      <td id=\"T_173c3_row33_col0\" class=\"data row33 col0\" >PCA Components</td>\n",
       "      <td id=\"T_173c3_row33_col1\" class=\"data row33 col1\" >None</td>\n",
       "    </tr>\n",
       "    <tr>\n",
       "      <th id=\"T_173c3_level0_row34\" class=\"row_heading level0 row34\" >34</th>\n",
       "      <td id=\"T_173c3_row34_col0\" class=\"data row34 col0\" >Ignore Low Variance</td>\n",
       "      <td id=\"T_173c3_row34_col1\" class=\"data row34 col1\" >False</td>\n",
       "    </tr>\n",
       "    <tr>\n",
       "      <th id=\"T_173c3_level0_row35\" class=\"row_heading level0 row35\" >35</th>\n",
       "      <td id=\"T_173c3_row35_col0\" class=\"data row35 col0\" >Combine Rare Levels</td>\n",
       "      <td id=\"T_173c3_row35_col1\" class=\"data row35 col1\" >False</td>\n",
       "    </tr>\n",
       "    <tr>\n",
       "      <th id=\"T_173c3_level0_row36\" class=\"row_heading level0 row36\" >36</th>\n",
       "      <td id=\"T_173c3_row36_col0\" class=\"data row36 col0\" >Rare Level Threshold</td>\n",
       "      <td id=\"T_173c3_row36_col1\" class=\"data row36 col1\" >None</td>\n",
       "    </tr>\n",
       "    <tr>\n",
       "      <th id=\"T_173c3_level0_row37\" class=\"row_heading level0 row37\" >37</th>\n",
       "      <td id=\"T_173c3_row37_col0\" class=\"data row37 col0\" >Numeric Binning</td>\n",
       "      <td id=\"T_173c3_row37_col1\" class=\"data row37 col1\" >False</td>\n",
       "    </tr>\n",
       "    <tr>\n",
       "      <th id=\"T_173c3_level0_row38\" class=\"row_heading level0 row38\" >38</th>\n",
       "      <td id=\"T_173c3_row38_col0\" class=\"data row38 col0\" >Remove Outliers</td>\n",
       "      <td id=\"T_173c3_row38_col1\" class=\"data row38 col1\" >False</td>\n",
       "    </tr>\n",
       "    <tr>\n",
       "      <th id=\"T_173c3_level0_row39\" class=\"row_heading level0 row39\" >39</th>\n",
       "      <td id=\"T_173c3_row39_col0\" class=\"data row39 col0\" >Outliers Threshold</td>\n",
       "      <td id=\"T_173c3_row39_col1\" class=\"data row39 col1\" >None</td>\n",
       "    </tr>\n",
       "    <tr>\n",
       "      <th id=\"T_173c3_level0_row40\" class=\"row_heading level0 row40\" >40</th>\n",
       "      <td id=\"T_173c3_row40_col0\" class=\"data row40 col0\" >Remove Multicollinearity</td>\n",
       "      <td id=\"T_173c3_row40_col1\" class=\"data row40 col1\" >False</td>\n",
       "    </tr>\n",
       "    <tr>\n",
       "      <th id=\"T_173c3_level0_row41\" class=\"row_heading level0 row41\" >41</th>\n",
       "      <td id=\"T_173c3_row41_col0\" class=\"data row41 col0\" >Multicollinearity Threshold</td>\n",
       "      <td id=\"T_173c3_row41_col1\" class=\"data row41 col1\" >None</td>\n",
       "    </tr>\n",
       "    <tr>\n",
       "      <th id=\"T_173c3_level0_row42\" class=\"row_heading level0 row42\" >42</th>\n",
       "      <td id=\"T_173c3_row42_col0\" class=\"data row42 col0\" >Remove Perfect Collinearity</td>\n",
       "      <td id=\"T_173c3_row42_col1\" class=\"data row42 col1\" >True</td>\n",
       "    </tr>\n",
       "    <tr>\n",
       "      <th id=\"T_173c3_level0_row43\" class=\"row_heading level0 row43\" >43</th>\n",
       "      <td id=\"T_173c3_row43_col0\" class=\"data row43 col0\" >Clustering</td>\n",
       "      <td id=\"T_173c3_row43_col1\" class=\"data row43 col1\" >False</td>\n",
       "    </tr>\n",
       "    <tr>\n",
       "      <th id=\"T_173c3_level0_row44\" class=\"row_heading level0 row44\" >44</th>\n",
       "      <td id=\"T_173c3_row44_col0\" class=\"data row44 col0\" >Clustering Iteration</td>\n",
       "      <td id=\"T_173c3_row44_col1\" class=\"data row44 col1\" >None</td>\n",
       "    </tr>\n",
       "    <tr>\n",
       "      <th id=\"T_173c3_level0_row45\" class=\"row_heading level0 row45\" >45</th>\n",
       "      <td id=\"T_173c3_row45_col0\" class=\"data row45 col0\" >Polynomial Features</td>\n",
       "      <td id=\"T_173c3_row45_col1\" class=\"data row45 col1\" >False</td>\n",
       "    </tr>\n",
       "    <tr>\n",
       "      <th id=\"T_173c3_level0_row46\" class=\"row_heading level0 row46\" >46</th>\n",
       "      <td id=\"T_173c3_row46_col0\" class=\"data row46 col0\" >Polynomial Degree</td>\n",
       "      <td id=\"T_173c3_row46_col1\" class=\"data row46 col1\" >None</td>\n",
       "    </tr>\n",
       "    <tr>\n",
       "      <th id=\"T_173c3_level0_row47\" class=\"row_heading level0 row47\" >47</th>\n",
       "      <td id=\"T_173c3_row47_col0\" class=\"data row47 col0\" >Trignometry Features</td>\n",
       "      <td id=\"T_173c3_row47_col1\" class=\"data row47 col1\" >False</td>\n",
       "    </tr>\n",
       "    <tr>\n",
       "      <th id=\"T_173c3_level0_row48\" class=\"row_heading level0 row48\" >48</th>\n",
       "      <td id=\"T_173c3_row48_col0\" class=\"data row48 col0\" >Polynomial Threshold</td>\n",
       "      <td id=\"T_173c3_row48_col1\" class=\"data row48 col1\" >None</td>\n",
       "    </tr>\n",
       "    <tr>\n",
       "      <th id=\"T_173c3_level0_row49\" class=\"row_heading level0 row49\" >49</th>\n",
       "      <td id=\"T_173c3_row49_col0\" class=\"data row49 col0\" >Group Features</td>\n",
       "      <td id=\"T_173c3_row49_col1\" class=\"data row49 col1\" >False</td>\n",
       "    </tr>\n",
       "    <tr>\n",
       "      <th id=\"T_173c3_level0_row50\" class=\"row_heading level0 row50\" >50</th>\n",
       "      <td id=\"T_173c3_row50_col0\" class=\"data row50 col0\" >Feature Selection</td>\n",
       "      <td id=\"T_173c3_row50_col1\" class=\"data row50 col1\" >False</td>\n",
       "    </tr>\n",
       "    <tr>\n",
       "      <th id=\"T_173c3_level0_row51\" class=\"row_heading level0 row51\" >51</th>\n",
       "      <td id=\"T_173c3_row51_col0\" class=\"data row51 col0\" >Feature Selection Method</td>\n",
       "      <td id=\"T_173c3_row51_col1\" class=\"data row51 col1\" >classic</td>\n",
       "    </tr>\n",
       "    <tr>\n",
       "      <th id=\"T_173c3_level0_row52\" class=\"row_heading level0 row52\" >52</th>\n",
       "      <td id=\"T_173c3_row52_col0\" class=\"data row52 col0\" >Features Selection Threshold</td>\n",
       "      <td id=\"T_173c3_row52_col1\" class=\"data row52 col1\" >None</td>\n",
       "    </tr>\n",
       "    <tr>\n",
       "      <th id=\"T_173c3_level0_row53\" class=\"row_heading level0 row53\" >53</th>\n",
       "      <td id=\"T_173c3_row53_col0\" class=\"data row53 col0\" >Feature Interaction</td>\n",
       "      <td id=\"T_173c3_row53_col1\" class=\"data row53 col1\" >False</td>\n",
       "    </tr>\n",
       "    <tr>\n",
       "      <th id=\"T_173c3_level0_row54\" class=\"row_heading level0 row54\" >54</th>\n",
       "      <td id=\"T_173c3_row54_col0\" class=\"data row54 col0\" >Feature Ratio</td>\n",
       "      <td id=\"T_173c3_row54_col1\" class=\"data row54 col1\" >False</td>\n",
       "    </tr>\n",
       "    <tr>\n",
       "      <th id=\"T_173c3_level0_row55\" class=\"row_heading level0 row55\" >55</th>\n",
       "      <td id=\"T_173c3_row55_col0\" class=\"data row55 col0\" >Interaction Threshold</td>\n",
       "      <td id=\"T_173c3_row55_col1\" class=\"data row55 col1\" >None</td>\n",
       "    </tr>\n",
       "    <tr>\n",
       "      <th id=\"T_173c3_level0_row56\" class=\"row_heading level0 row56\" >56</th>\n",
       "      <td id=\"T_173c3_row56_col0\" class=\"data row56 col0\" >Transform Target</td>\n",
       "      <td id=\"T_173c3_row56_col1\" class=\"data row56 col1\" >True</td>\n",
       "    </tr>\n",
       "    <tr>\n",
       "      <th id=\"T_173c3_level0_row57\" class=\"row_heading level0 row57\" >57</th>\n",
       "      <td id=\"T_173c3_row57_col0\" class=\"data row57 col0\" >Transform Target Method</td>\n",
       "      <td id=\"T_173c3_row57_col1\" class=\"data row57 col1\" >box-cox</td>\n",
       "    </tr>\n",
       "  </tbody>\n",
       "</table>\n"
      ],
      "text/plain": [
       "<pandas.io.formats.style.Styler at 0x7f7f5eb9a1d0>"
      ]
     },
     "metadata": {},
     "output_type": "display_data"
    }
   ],
   "source": [
    "# import the regression module**\n",
    "from pycaret.regression import *\n",
    "# initialize setup**\n",
    "s = setup(data = train, test_data = test, target = '#Passengers', fold_strategy = 'timeseries', numeric_features = ['Year', 'Series'], fold = 3, transform_target = True, session_id = 123)"
   ]
  },
  {
   "cell_type": "code",
   "execution_count": 5,
   "metadata": {},
   "outputs": [
    {
     "data": {
      "text/html": [
       "<style type=\"text/css\">\n",
       "#T_1dd5b_ th {\n",
       "  text-align: left;\n",
       "}\n",
       "#T_1dd5b_row0_col0, #T_1dd5b_row0_col2, #T_1dd5b_row0_col4, #T_1dd5b_row1_col0, #T_1dd5b_row1_col1, #T_1dd5b_row1_col3, #T_1dd5b_row1_col5, #T_1dd5b_row1_col6, #T_1dd5b_row2_col0, #T_1dd5b_row2_col1, #T_1dd5b_row2_col2, #T_1dd5b_row2_col3, #T_1dd5b_row2_col4, #T_1dd5b_row2_col5, #T_1dd5b_row2_col6, #T_1dd5b_row3_col0, #T_1dd5b_row3_col1, #T_1dd5b_row3_col2, #T_1dd5b_row3_col3, #T_1dd5b_row3_col4, #T_1dd5b_row3_col5, #T_1dd5b_row3_col6, #T_1dd5b_row4_col0, #T_1dd5b_row4_col1, #T_1dd5b_row4_col2, #T_1dd5b_row4_col3, #T_1dd5b_row4_col4, #T_1dd5b_row4_col5, #T_1dd5b_row4_col6, #T_1dd5b_row5_col0, #T_1dd5b_row5_col1, #T_1dd5b_row5_col2, #T_1dd5b_row5_col3, #T_1dd5b_row5_col4, #T_1dd5b_row5_col5, #T_1dd5b_row5_col6, #T_1dd5b_row6_col0, #T_1dd5b_row6_col1, #T_1dd5b_row6_col2, #T_1dd5b_row6_col3, #T_1dd5b_row6_col4, #T_1dd5b_row6_col5, #T_1dd5b_row6_col6, #T_1dd5b_row7_col0, #T_1dd5b_row7_col1, #T_1dd5b_row7_col2, #T_1dd5b_row7_col3, #T_1dd5b_row7_col4, #T_1dd5b_row7_col5, #T_1dd5b_row7_col6, #T_1dd5b_row8_col0, #T_1dd5b_row8_col1, #T_1dd5b_row8_col2, #T_1dd5b_row8_col3, #T_1dd5b_row8_col4, #T_1dd5b_row8_col5, #T_1dd5b_row8_col6, #T_1dd5b_row9_col0, #T_1dd5b_row9_col1, #T_1dd5b_row9_col2, #T_1dd5b_row9_col3, #T_1dd5b_row9_col4, #T_1dd5b_row9_col5, #T_1dd5b_row9_col6, #T_1dd5b_row10_col0, #T_1dd5b_row10_col1, #T_1dd5b_row10_col2, #T_1dd5b_row10_col3, #T_1dd5b_row10_col4, #T_1dd5b_row10_col5, #T_1dd5b_row10_col6, #T_1dd5b_row11_col0, #T_1dd5b_row11_col1, #T_1dd5b_row11_col2, #T_1dd5b_row11_col3, #T_1dd5b_row11_col4, #T_1dd5b_row11_col5, #T_1dd5b_row11_col6, #T_1dd5b_row12_col0, #T_1dd5b_row12_col1, #T_1dd5b_row12_col2, #T_1dd5b_row12_col3, #T_1dd5b_row12_col4, #T_1dd5b_row12_col5, #T_1dd5b_row12_col6, #T_1dd5b_row13_col0, #T_1dd5b_row13_col1, #T_1dd5b_row13_col2, #T_1dd5b_row13_col3, #T_1dd5b_row13_col4, #T_1dd5b_row13_col5, #T_1dd5b_row13_col6, #T_1dd5b_row14_col0, #T_1dd5b_row14_col1, #T_1dd5b_row14_col2, #T_1dd5b_row14_col3, #T_1dd5b_row14_col4, #T_1dd5b_row14_col5, #T_1dd5b_row14_col6, #T_1dd5b_row15_col0, #T_1dd5b_row15_col1, #T_1dd5b_row15_col2, #T_1dd5b_row15_col3, #T_1dd5b_row15_col4, #T_1dd5b_row15_col5, #T_1dd5b_row15_col6, #T_1dd5b_row16_col0, #T_1dd5b_row16_col1, #T_1dd5b_row16_col2, #T_1dd5b_row16_col3, #T_1dd5b_row16_col4, #T_1dd5b_row16_col5, #T_1dd5b_row16_col6 {\n",
       "  text-align: left;\n",
       "}\n",
       "#T_1dd5b_row0_col1, #T_1dd5b_row0_col3, #T_1dd5b_row0_col5, #T_1dd5b_row0_col6, #T_1dd5b_row1_col2, #T_1dd5b_row1_col4 {\n",
       "  text-align: left;\n",
       "  background-color: yellow;\n",
       "}\n",
       "#T_1dd5b_row0_col7, #T_1dd5b_row1_col7, #T_1dd5b_row2_col7, #T_1dd5b_row3_col7, #T_1dd5b_row4_col7, #T_1dd5b_row5_col7, #T_1dd5b_row6_col7, #T_1dd5b_row7_col7, #T_1dd5b_row8_col7, #T_1dd5b_row9_col7, #T_1dd5b_row10_col7, #T_1dd5b_row11_col7, #T_1dd5b_row12_col7, #T_1dd5b_row13_col7, #T_1dd5b_row14_col7, #T_1dd5b_row16_col7 {\n",
       "  text-align: left;\n",
       "  background-color: lightgrey;\n",
       "}\n",
       "#T_1dd5b_row15_col7 {\n",
       "  text-align: left;\n",
       "  background-color: yellow;\n",
       "  background-color: lightgrey;\n",
       "}\n",
       "</style>\n",
       "<table id=\"T_1dd5b_\">\n",
       "  <thead>\n",
       "    <tr>\n",
       "      <th class=\"blank level0\" >&nbsp;</th>\n",
       "      <th class=\"col_heading level0 col0\" >Model</th>\n",
       "      <th class=\"col_heading level0 col1\" >MAE</th>\n",
       "      <th class=\"col_heading level0 col2\" >MSE</th>\n",
       "      <th class=\"col_heading level0 col3\" >RMSE</th>\n",
       "      <th class=\"col_heading level0 col4\" >R2</th>\n",
       "      <th class=\"col_heading level0 col5\" >RMSLE</th>\n",
       "      <th class=\"col_heading level0 col6\" >MAPE</th>\n",
       "      <th class=\"col_heading level0 col7\" >TT (Sec)</th>\n",
       "    </tr>\n",
       "  </thead>\n",
       "  <tbody>\n",
       "    <tr>\n",
       "      <th id=\"T_1dd5b_level0_row0\" class=\"row_heading level0 row0\" >ridge</th>\n",
       "      <td id=\"T_1dd5b_row0_col0\" class=\"data row0 col0\" >Ridge Regression</td>\n",
       "      <td id=\"T_1dd5b_row0_col1\" class=\"data row0 col1\" >13.9050</td>\n",
       "      <td id=\"T_1dd5b_row0_col2\" class=\"data row0 col2\" >337.1035</td>\n",
       "      <td id=\"T_1dd5b_row0_col3\" class=\"data row0 col3\" >17.0331</td>\n",
       "      <td id=\"T_1dd5b_row0_col4\" class=\"data row0 col4\" >-0.0187</td>\n",
       "      <td id=\"T_1dd5b_row0_col5\" class=\"data row0 col5\" >0.1078</td>\n",
       "      <td id=\"T_1dd5b_row0_col6\" class=\"data row0 col6\" >0.0833</td>\n",
       "      <td id=\"T_1dd5b_row0_col7\" class=\"data row0 col7\" >1.1000</td>\n",
       "    </tr>\n",
       "    <tr>\n",
       "      <th id=\"T_1dd5b_level0_row1\" class=\"row_heading level0 row1\" >lr</th>\n",
       "      <td id=\"T_1dd5b_row1_col0\" class=\"data row1 col0\" >Linear Regression</td>\n",
       "      <td id=\"T_1dd5b_row1_col1\" class=\"data row1 col1\" >14.4255</td>\n",
       "      <td id=\"T_1dd5b_row1_col2\" class=\"data row1 col2\" >330.9731</td>\n",
       "      <td id=\"T_1dd5b_row1_col3\" class=\"data row1 col3\" >17.6843</td>\n",
       "      <td id=\"T_1dd5b_row1_col4\" class=\"data row1 col4\" >0.0276</td>\n",
       "      <td id=\"T_1dd5b_row1_col5\" class=\"data row1 col5\" >0.1133</td>\n",
       "      <td id=\"T_1dd5b_row1_col6\" class=\"data row1 col6\" >0.0870</td>\n",
       "      <td id=\"T_1dd5b_row1_col7\" class=\"data row1 col7\" >0.9067</td>\n",
       "    </tr>\n",
       "    <tr>\n",
       "      <th id=\"T_1dd5b_level0_row2\" class=\"row_heading level0 row2\" >huber</th>\n",
       "      <td id=\"T_1dd5b_row2_col0\" class=\"data row2 col0\" >Huber Regressor</td>\n",
       "      <td id=\"T_1dd5b_row2_col1\" class=\"data row2 col1\" >14.4987</td>\n",
       "      <td id=\"T_1dd5b_row2_col2\" class=\"data row2 col2\" >342.5884</td>\n",
       "      <td id=\"T_1dd5b_row2_col3\" class=\"data row2 col3\" >17.5367</td>\n",
       "      <td id=\"T_1dd5b_row2_col4\" class=\"data row2 col4\" >-0.0137</td>\n",
       "      <td id=\"T_1dd5b_row2_col5\" class=\"data row2 col5\" >0.1127</td>\n",
       "      <td id=\"T_1dd5b_row2_col6\" class=\"data row2 col6\" >0.0879</td>\n",
       "      <td id=\"T_1dd5b_row2_col7\" class=\"data row2 col7\" >0.0333</td>\n",
       "    </tr>\n",
       "    <tr>\n",
       "      <th id=\"T_1dd5b_level0_row3\" class=\"row_heading level0 row3\" >br</th>\n",
       "      <td id=\"T_1dd5b_row3_col0\" class=\"data row3 col0\" >Bayesian Ridge</td>\n",
       "      <td id=\"T_1dd5b_row3_col1\" class=\"data row3 col1\" >14.6013</td>\n",
       "      <td id=\"T_1dd5b_row3_col2\" class=\"data row3 col2\" >339.1276</td>\n",
       "      <td id=\"T_1dd5b_row3_col3\" class=\"data row3 col3\" >17.4796</td>\n",
       "      <td id=\"T_1dd5b_row3_col4\" class=\"data row3 col4\" >-0.0092</td>\n",
       "      <td id=\"T_1dd5b_row3_col5\" class=\"data row3 col5\" >0.1137</td>\n",
       "      <td id=\"T_1dd5b_row3_col6\" class=\"data row3 col6\" >0.0892</td>\n",
       "      <td id=\"T_1dd5b_row3_col7\" class=\"data row3 col7\" >0.4800</td>\n",
       "    </tr>\n",
       "    <tr>\n",
       "      <th id=\"T_1dd5b_level0_row4\" class=\"row_heading level0 row4\" >omp</th>\n",
       "      <td id=\"T_1dd5b_row4_col0\" class=\"data row4 col0\" >Orthogonal Matching Pursuit</td>\n",
       "      <td id=\"T_1dd5b_row4_col1\" class=\"data row4 col1\" >17.4371</td>\n",
       "      <td id=\"T_1dd5b_row4_col2\" class=\"data row4 col2\" >465.6863</td>\n",
       "      <td id=\"T_1dd5b_row4_col3\" class=\"data row4 col3\" >21.5443</td>\n",
       "      <td id=\"T_1dd5b_row4_col4\" class=\"data row4 col4\" >-0.2893</td>\n",
       "      <td id=\"T_1dd5b_row4_col5\" class=\"data row4 col5\" >0.1290</td>\n",
       "      <td id=\"T_1dd5b_row4_col6\" class=\"data row4 col6\" >0.1007</td>\n",
       "      <td id=\"T_1dd5b_row4_col7\" class=\"data row4 col7\" >0.4933</td>\n",
       "    </tr>\n",
       "    <tr>\n",
       "      <th id=\"T_1dd5b_level0_row5\" class=\"row_heading level0 row5\" >en</th>\n",
       "      <td id=\"T_1dd5b_row5_col0\" class=\"data row5 col0\" >Elastic Net</td>\n",
       "      <td id=\"T_1dd5b_row5_col1\" class=\"data row5 col1\" >20.0104</td>\n",
       "      <td id=\"T_1dd5b_row5_col2\" class=\"data row5 col2\" >676.0520</td>\n",
       "      <td id=\"T_1dd5b_row5_col3\" class=\"data row5 col3\" >25.7575</td>\n",
       "      <td id=\"T_1dd5b_row5_col4\" class=\"data row5 col4\" >-0.9187</td>\n",
       "      <td id=\"T_1dd5b_row5_col5\" class=\"data row5 col5\" >0.1531</td>\n",
       "      <td id=\"T_1dd5b_row5_col6\" class=\"data row5 col6\" >0.1128</td>\n",
       "      <td id=\"T_1dd5b_row5_col7\" class=\"data row5 col7\" >0.0133</td>\n",
       "    </tr>\n",
       "    <tr>\n",
       "      <th id=\"T_1dd5b_level0_row6\" class=\"row_heading level0 row6\" >lasso</th>\n",
       "      <td id=\"T_1dd5b_row6_col0\" class=\"data row6 col0\" >Lasso Regression</td>\n",
       "      <td id=\"T_1dd5b_row6_col1\" class=\"data row6 col1\" >21.3887</td>\n",
       "      <td id=\"T_1dd5b_row6_col2\" class=\"data row6 col2\" >768.4556</td>\n",
       "      <td id=\"T_1dd5b_row6_col3\" class=\"data row6 col3\" >27.3271</td>\n",
       "      <td id=\"T_1dd5b_row6_col4\" class=\"data row6 col4\" >-1.1829</td>\n",
       "      <td id=\"T_1dd5b_row6_col5\" class=\"data row6 col5\" >0.1631</td>\n",
       "      <td id=\"T_1dd5b_row6_col6\" class=\"data row6 col6\" >0.1202</td>\n",
       "      <td id=\"T_1dd5b_row6_col7\" class=\"data row6 col7\" >0.7700</td>\n",
       "    </tr>\n",
       "    <tr>\n",
       "      <th id=\"T_1dd5b_level0_row7\" class=\"row_heading level0 row7\" >knn</th>\n",
       "      <td id=\"T_1dd5b_row7_col0\" class=\"data row7 col0\" >K Neighbors Regressor</td>\n",
       "      <td id=\"T_1dd5b_row7_col1\" class=\"data row7 col1\" >25.2112</td>\n",
       "      <td id=\"T_1dd5b_row7_col2\" class=\"data row7 col2\" >997.4612</td>\n",
       "      <td id=\"T_1dd5b_row7_col3\" class=\"data row7 col3\" >31.1687</td>\n",
       "      <td id=\"T_1dd5b_row7_col4\" class=\"data row7 col4\" >-1.6998</td>\n",
       "      <td id=\"T_1dd5b_row7_col5\" class=\"data row7 col5\" >0.1862</td>\n",
       "      <td id=\"T_1dd5b_row7_col6\" class=\"data row7 col6\" >0.1393</td>\n",
       "      <td id=\"T_1dd5b_row7_col7\" class=\"data row7 col7\" >0.0500</td>\n",
       "    </tr>\n",
       "    <tr>\n",
       "      <th id=\"T_1dd5b_level0_row8\" class=\"row_heading level0 row8\" >et</th>\n",
       "      <td id=\"T_1dd5b_row8_col0\" class=\"data row8 col0\" >Extra Trees Regressor</td>\n",
       "      <td id=\"T_1dd5b_row8_col1\" class=\"data row8 col1\" >25.7282</td>\n",
       "      <td id=\"T_1dd5b_row8_col2\" class=\"data row8 col2\" >847.5944</td>\n",
       "      <td id=\"T_1dd5b_row8_col3\" class=\"data row8 col3\" >28.8462</td>\n",
       "      <td id=\"T_1dd5b_row8_col4\" class=\"data row8 col4\" >-1.2876</td>\n",
       "      <td id=\"T_1dd5b_row8_col5\" class=\"data row8 col5\" >0.1764</td>\n",
       "      <td id=\"T_1dd5b_row8_col6\" class=\"data row8 col6\" >0.1468</td>\n",
       "      <td id=\"T_1dd5b_row8_col7\" class=\"data row8 col7\" >0.0900</td>\n",
       "    </tr>\n",
       "    <tr>\n",
       "      <th id=\"T_1dd5b_level0_row9\" class=\"row_heading level0 row9\" >rf</th>\n",
       "      <td id=\"T_1dd5b_row9_col0\" class=\"data row9 col0\" >Random Forest Regressor</td>\n",
       "      <td id=\"T_1dd5b_row9_col1\" class=\"data row9 col1\" >27.1376</td>\n",
       "      <td id=\"T_1dd5b_row9_col2\" class=\"data row9 col2\" >1035.4707</td>\n",
       "      <td id=\"T_1dd5b_row9_col3\" class=\"data row9 col3\" >31.9862</td>\n",
       "      <td id=\"T_1dd5b_row9_col4\" class=\"data row9 col4\" >-1.8163</td>\n",
       "      <td id=\"T_1dd5b_row9_col5\" class=\"data row9 col5\" >0.1945</td>\n",
       "      <td id=\"T_1dd5b_row9_col6\" class=\"data row9 col6\" >0.1520</td>\n",
       "      <td id=\"T_1dd5b_row9_col7\" class=\"data row9 col7\" >0.1300</td>\n",
       "    </tr>\n",
       "    <tr>\n",
       "      <th id=\"T_1dd5b_level0_row10\" class=\"row_heading level0 row10\" >gbr</th>\n",
       "      <td id=\"T_1dd5b_row10_col0\" class=\"data row10 col0\" >Gradient Boosting Regressor</td>\n",
       "      <td id=\"T_1dd5b_row10_col1\" class=\"data row10 col1\" >28.5806</td>\n",
       "      <td id=\"T_1dd5b_row10_col2\" class=\"data row10 col2\" >1094.1607</td>\n",
       "      <td id=\"T_1dd5b_row10_col3\" class=\"data row10 col3\" >32.9044</td>\n",
       "      <td id=\"T_1dd5b_row10_col4\" class=\"data row10 col4\" >-2.0013</td>\n",
       "      <td id=\"T_1dd5b_row10_col5\" class=\"data row10 col5\" >0.2029</td>\n",
       "      <td id=\"T_1dd5b_row10_col6\" class=\"data row10 col6\" >0.1610</td>\n",
       "      <td id=\"T_1dd5b_row10_col7\" class=\"data row10 col7\" >0.0200</td>\n",
       "    </tr>\n",
       "    <tr>\n",
       "      <th id=\"T_1dd5b_level0_row11\" class=\"row_heading level0 row11\" >dt</th>\n",
       "      <td id=\"T_1dd5b_row11_col0\" class=\"data row11 col0\" >Decision Tree Regressor</td>\n",
       "      <td id=\"T_1dd5b_row11_col1\" class=\"data row11 col1\" >30.1667</td>\n",
       "      <td id=\"T_1dd5b_row11_col2\" class=\"data row11 col2\" >1300.2778</td>\n",
       "      <td id=\"T_1dd5b_row11_col3\" class=\"data row11 col3\" >35.8635</td>\n",
       "      <td id=\"T_1dd5b_row11_col4\" class=\"data row11 col4\" >-2.5165</td>\n",
       "      <td id=\"T_1dd5b_row11_col5\" class=\"data row11 col5\" >0.2226</td>\n",
       "      <td id=\"T_1dd5b_row11_col6\" class=\"data row11 col6\" >0.1687</td>\n",
       "      <td id=\"T_1dd5b_row11_col7\" class=\"data row11 col7\" >0.0133</td>\n",
       "    </tr>\n",
       "    <tr>\n",
       "      <th id=\"T_1dd5b_level0_row12\" class=\"row_heading level0 row12\" >ada</th>\n",
       "      <td id=\"T_1dd5b_row12_col0\" class=\"data row12 col0\" >AdaBoost Regressor</td>\n",
       "      <td id=\"T_1dd5b_row12_col1\" class=\"data row12 col1\" >30.9866</td>\n",
       "      <td id=\"T_1dd5b_row12_col2\" class=\"data row12 col2\" >1284.3898</td>\n",
       "      <td id=\"T_1dd5b_row12_col3\" class=\"data row12 col3\" >35.3898</td>\n",
       "      <td id=\"T_1dd5b_row12_col4\" class=\"data row12 col4\" >-2.4414</td>\n",
       "      <td id=\"T_1dd5b_row12_col5\" class=\"data row12 col5\" >0.2177</td>\n",
       "      <td id=\"T_1dd5b_row12_col6\" class=\"data row12 col6\" >0.1739</td>\n",
       "      <td id=\"T_1dd5b_row12_col7\" class=\"data row12 col7\" >0.0333</td>\n",
       "    </tr>\n",
       "    <tr>\n",
       "      <th id=\"T_1dd5b_level0_row13\" class=\"row_heading level0 row13\" >llar</th>\n",
       "      <td id=\"T_1dd5b_row13_col0\" class=\"data row13 col0\" >Lasso Least Angle Regression</td>\n",
       "      <td id=\"T_1dd5b_row13_col1\" class=\"data row13 col1\" >37.0510</td>\n",
       "      <td id=\"T_1dd5b_row13_col2\" class=\"data row13 col2\" >1933.8772</td>\n",
       "      <td id=\"T_1dd5b_row13_col3\" class=\"data row13 col3\" >41.4521</td>\n",
       "      <td id=\"T_1dd5b_row13_col4\" class=\"data row13 col4\" >-3.8613</td>\n",
       "      <td id=\"T_1dd5b_row13_col5\" class=\"data row13 col5\" >0.2554</td>\n",
       "      <td id=\"T_1dd5b_row13_col6\" class=\"data row13 col6\" >0.2022</td>\n",
       "      <td id=\"T_1dd5b_row13_col7\" class=\"data row13 col7\" >0.7433</td>\n",
       "    </tr>\n",
       "    <tr>\n",
       "      <th id=\"T_1dd5b_level0_row14\" class=\"row_heading level0 row14\" >lightgbm</th>\n",
       "      <td id=\"T_1dd5b_row14_col0\" class=\"data row14 col0\" >Light Gradient Boosting Machine</td>\n",
       "      <td id=\"T_1dd5b_row14_col1\" class=\"data row14 col1\" >37.0510</td>\n",
       "      <td id=\"T_1dd5b_row14_col2\" class=\"data row14 col2\" >1933.8772</td>\n",
       "      <td id=\"T_1dd5b_row14_col3\" class=\"data row14 col3\" >41.4521</td>\n",
       "      <td id=\"T_1dd5b_row14_col4\" class=\"data row14 col4\" >-3.8613</td>\n",
       "      <td id=\"T_1dd5b_row14_col5\" class=\"data row14 col5\" >0.2554</td>\n",
       "      <td id=\"T_1dd5b_row14_col6\" class=\"data row14 col6\" >0.2022</td>\n",
       "      <td id=\"T_1dd5b_row14_col7\" class=\"data row14 col7\" >0.0200</td>\n",
       "    </tr>\n",
       "    <tr>\n",
       "      <th id=\"T_1dd5b_level0_row15\" class=\"row_heading level0 row15\" >dummy</th>\n",
       "      <td id=\"T_1dd5b_row15_col0\" class=\"data row15 col0\" >Dummy Regressor</td>\n",
       "      <td id=\"T_1dd5b_row15_col1\" class=\"data row15 col1\" >37.0510</td>\n",
       "      <td id=\"T_1dd5b_row15_col2\" class=\"data row15 col2\" >1933.8773</td>\n",
       "      <td id=\"T_1dd5b_row15_col3\" class=\"data row15 col3\" >41.4521</td>\n",
       "      <td id=\"T_1dd5b_row15_col4\" class=\"data row15 col4\" >-3.8613</td>\n",
       "      <td id=\"T_1dd5b_row15_col5\" class=\"data row15 col5\" >0.2554</td>\n",
       "      <td id=\"T_1dd5b_row15_col6\" class=\"data row15 col6\" >0.2022</td>\n",
       "      <td id=\"T_1dd5b_row15_col7\" class=\"data row15 col7\" >0.0100</td>\n",
       "    </tr>\n",
       "    <tr>\n",
       "      <th id=\"T_1dd5b_level0_row16\" class=\"row_heading level0 row16\" >par</th>\n",
       "      <td id=\"T_1dd5b_row16_col0\" class=\"data row16 col0\" >Passive Aggressive Regressor</td>\n",
       "      <td id=\"T_1dd5b_row16_col1\" class=\"data row16 col1\" >49.1795</td>\n",
       "      <td id=\"T_1dd5b_row16_col2\" class=\"data row16 col2\" >3360.5613</td>\n",
       "      <td id=\"T_1dd5b_row16_col3\" class=\"data row16 col3\" >53.0332</td>\n",
       "      <td id=\"T_1dd5b_row16_col4\" class=\"data row16 col4\" >-7.0799</td>\n",
       "      <td id=\"T_1dd5b_row16_col5\" class=\"data row16 col5\" >0.3465</td>\n",
       "      <td id=\"T_1dd5b_row16_col6\" class=\"data row16 col6\" >0.2678</td>\n",
       "      <td id=\"T_1dd5b_row16_col7\" class=\"data row16 col7\" >0.0133</td>\n",
       "    </tr>\n",
       "  </tbody>\n",
       "</table>\n"
      ],
      "text/plain": [
       "<pandas.io.formats.style.Styler at 0x7f7f5e7a1610>"
      ]
     },
     "metadata": {},
     "output_type": "display_data"
    }
   ],
   "source": [
    "best = compare_models(sort = 'MAE')"
   ]
  },
  {
   "cell_type": "code",
   "execution_count": 6,
   "metadata": {},
   "outputs": [
    {
     "data": {
      "text/html": [
       "<style type=\"text/css\">\n",
       "</style>\n",
       "<table id=\"T_9c866_\">\n",
       "  <thead>\n",
       "    <tr>\n",
       "      <th class=\"blank level0\" >&nbsp;</th>\n",
       "      <th class=\"col_heading level0 col0\" >Model</th>\n",
       "      <th class=\"col_heading level0 col1\" >MAE</th>\n",
       "      <th class=\"col_heading level0 col2\" >MSE</th>\n",
       "      <th class=\"col_heading level0 col3\" >RMSE</th>\n",
       "      <th class=\"col_heading level0 col4\" >R2</th>\n",
       "      <th class=\"col_heading level0 col5\" >RMSLE</th>\n",
       "      <th class=\"col_heading level0 col6\" >MAPE</th>\n",
       "    </tr>\n",
       "  </thead>\n",
       "  <tbody>\n",
       "    <tr>\n",
       "      <th id=\"T_9c866_level0_row0\" class=\"row_heading level0 row0\" >0</th>\n",
       "      <td id=\"T_9c866_row0_col0\" class=\"data row0 col0\" >Ridge Regression</td>\n",
       "      <td id=\"T_9c866_row0_col1\" class=\"data row0 col1\" >8.8416</td>\n",
       "      <td id=\"T_9c866_row0_col2\" class=\"data row0 col2\" >119.9202</td>\n",
       "      <td id=\"T_9c866_row0_col3\" class=\"data row0 col3\" >10.9508</td>\n",
       "      <td id=\"T_9c866_row0_col4\" class=\"data row0 col4\" >0.8408</td>\n",
       "      <td id=\"T_9c866_row0_col5\" class=\"data row0 col5\" >0.0512</td>\n",
       "      <td id=\"T_9c866_row0_col6\" class=\"data row0 col6\" >0.0412</td>\n",
       "    </tr>\n",
       "  </tbody>\n",
       "</table>\n"
      ],
      "text/plain": [
       "<pandas.io.formats.style.Styler at 0x7f7f5e7952d0>"
      ]
     },
     "metadata": {},
     "output_type": "display_data"
    }
   ],
   "source": [
    "prediction_holdout = predict_model(best)"
   ]
  },
  {
   "cell_type": "code",
   "execution_count": 7,
   "metadata": {},
   "outputs": [
    {
     "data": {
      "text/html": [
       "<style type=\"text/css\">\n",
       "</style>\n",
       "<table id=\"T_8a86d_\">\n",
       "  <thead>\n",
       "    <tr>\n",
       "      <th class=\"blank level0\" >&nbsp;</th>\n",
       "      <th class=\"col_heading level0 col0\" >Model</th>\n",
       "      <th class=\"col_heading level0 col1\" >MAE</th>\n",
       "      <th class=\"col_heading level0 col2\" >MSE</th>\n",
       "      <th class=\"col_heading level0 col3\" >RMSE</th>\n",
       "      <th class=\"col_heading level0 col4\" >R2</th>\n",
       "      <th class=\"col_heading level0 col5\" >RMSLE</th>\n",
       "      <th class=\"col_heading level0 col6\" >MAPE</th>\n",
       "    </tr>\n",
       "  </thead>\n",
       "  <tbody>\n",
       "    <tr>\n",
       "      <th id=\"T_8a86d_level0_row0\" class=\"row_heading level0 row0\" >0</th>\n",
       "      <td id=\"T_8a86d_row0_col0\" class=\"data row0 col0\" >Ridge Regression</td>\n",
       "      <td id=\"T_8a86d_row0_col1\" class=\"data row0 col1\" >5.4687</td>\n",
       "      <td id=\"T_8a86d_row0_col2\" class=\"data row0 col2\" >48.8899</td>\n",
       "      <td id=\"T_8a86d_row0_col3\" class=\"data row0 col3\" >6.9921</td>\n",
       "      <td id=\"T_8a86d_row0_col4\" class=\"data row0 col4\" >0.9717</td>\n",
       "      <td id=\"T_8a86d_row0_col5\" class=\"data row0 col5\" >0.0407</td>\n",
       "      <td id=\"T_8a86d_row0_col6\" class=\"data row0 col6\" >0.0329</td>\n",
       "    </tr>\n",
       "  </tbody>\n",
       "</table>\n"
      ],
      "text/plain": [
       "<pandas.io.formats.style.Styler at 0x7f7f5ef346d0>"
      ]
     },
     "metadata": {},
     "output_type": "display_data"
    },
    {
     "data": {
      "application/vnd.plotly.v1+json": {
       "config": {
        "plotlyServerURL": "https://plot.ly"
       },
       "data": [
        {
         "hovertemplate": "variable=#Passengers<br>Date=%{x}<br>value=%{y}<extra></extra>",
         "legendgroup": "#Passengers",
         "line": {
          "color": "#636efa",
          "dash": "solid"
         },
         "marker": {
          "symbol": "circle"
         },
         "mode": "lines",
         "name": "#Passengers",
         "orientation": "v",
         "showlegend": true,
         "type": "scatter",
         "x": [
          "1949-01-01T00:00:00",
          "1949-02-01T00:00:00",
          "1949-03-01T00:00:00",
          "1949-04-01T00:00:00",
          "1949-05-01T00:00:00",
          "1949-06-01T00:00:00",
          "1949-07-01T00:00:00",
          "1949-08-01T00:00:00",
          "1949-09-01T00:00:00",
          "1949-10-01T00:00:00",
          "1949-11-01T00:00:00",
          "1949-12-01T00:00:00",
          "1950-01-01T00:00:00",
          "1950-02-01T00:00:00",
          "1950-03-01T00:00:00",
          "1950-04-01T00:00:00",
          "1950-05-01T00:00:00",
          "1950-06-01T00:00:00",
          "1950-07-01T00:00:00",
          "1950-08-01T00:00:00",
          "1950-09-01T00:00:00",
          "1950-10-01T00:00:00",
          "1950-11-01T00:00:00",
          "1950-12-01T00:00:00",
          "1951-01-01T00:00:00",
          "1951-02-01T00:00:00",
          "1951-03-01T00:00:00",
          "1951-04-01T00:00:00",
          "1951-05-01T00:00:00",
          "1951-06-01T00:00:00",
          "1951-07-01T00:00:00",
          "1951-08-01T00:00:00",
          "1951-09-01T00:00:00",
          "1951-10-01T00:00:00",
          "1951-11-01T00:00:00",
          "1951-12-01T00:00:00",
          "1952-01-01T00:00:00",
          "1952-02-01T00:00:00",
          "1952-03-01T00:00:00",
          "1952-04-01T00:00:00",
          "1952-05-01T00:00:00",
          "1952-06-01T00:00:00",
          "1952-07-01T00:00:00",
          "1952-08-01T00:00:00",
          "1952-09-01T00:00:00",
          "1952-10-01T00:00:00",
          "1952-11-01T00:00:00",
          "1952-12-01T00:00:00",
          "1953-01-01T00:00:00",
          "1953-02-01T00:00:00",
          "1953-03-01T00:00:00",
          "1953-04-01T00:00:00",
          "1953-05-01T00:00:00",
          "1953-06-01T00:00:00",
          "1953-07-01T00:00:00",
          "1953-08-01T00:00:00",
          "1953-09-01T00:00:00",
          "1953-10-01T00:00:00",
          "1953-11-01T00:00:00"
         ],
         "xaxis": "x",
         "y": [
          112,
          118,
          132,
          129,
          121,
          135,
          148,
          148,
          136,
          119,
          104,
          118,
          115,
          126,
          141,
          135,
          125,
          149,
          170,
          170,
          158,
          133,
          114,
          140,
          145,
          150,
          178,
          163,
          172,
          178,
          199,
          199,
          184,
          162,
          146,
          166,
          171,
          180,
          193,
          181,
          183,
          218,
          230,
          242,
          209,
          191,
          172,
          194,
          196,
          196,
          236,
          235,
          229,
          243,
          264,
          272,
          237,
          211,
          180
         ],
         "yaxis": "y"
        },
        {
         "hovertemplate": "variable=Label<br>Date=%{x}<br>value=%{y}<extra></extra>",
         "legendgroup": "Label",
         "line": {
          "color": "#EF553B",
          "dash": "solid"
         },
         "marker": {
          "symbol": "circle"
         },
         "mode": "lines",
         "name": "Label",
         "orientation": "v",
         "showlegend": true,
         "type": "scatter",
         "x": [
          "1949-01-01T00:00:00",
          "1949-02-01T00:00:00",
          "1949-03-01T00:00:00",
          "1949-04-01T00:00:00",
          "1949-05-01T00:00:00",
          "1949-06-01T00:00:00",
          "1949-07-01T00:00:00",
          "1949-08-01T00:00:00",
          "1949-09-01T00:00:00",
          "1949-10-01T00:00:00",
          "1949-11-01T00:00:00",
          "1949-12-01T00:00:00",
          "1950-01-01T00:00:00",
          "1950-02-01T00:00:00",
          "1950-03-01T00:00:00",
          "1950-04-01T00:00:00",
          "1950-05-01T00:00:00",
          "1950-06-01T00:00:00",
          "1950-07-01T00:00:00",
          "1950-08-01T00:00:00",
          "1950-09-01T00:00:00",
          "1950-10-01T00:00:00",
          "1950-11-01T00:00:00",
          "1950-12-01T00:00:00",
          "1951-01-01T00:00:00",
          "1951-02-01T00:00:00",
          "1951-03-01T00:00:00",
          "1951-04-01T00:00:00",
          "1951-05-01T00:00:00",
          "1951-06-01T00:00:00",
          "1951-07-01T00:00:00",
          "1951-08-01T00:00:00",
          "1951-09-01T00:00:00",
          "1951-10-01T00:00:00",
          "1951-11-01T00:00:00",
          "1951-12-01T00:00:00",
          "1952-01-01T00:00:00",
          "1952-02-01T00:00:00",
          "1952-03-01T00:00:00",
          "1952-04-01T00:00:00",
          "1952-05-01T00:00:00",
          "1952-06-01T00:00:00",
          "1952-07-01T00:00:00",
          "1952-08-01T00:00:00",
          "1952-09-01T00:00:00",
          "1952-10-01T00:00:00",
          "1952-11-01T00:00:00",
          "1952-12-01T00:00:00",
          "1953-01-01T00:00:00",
          "1953-02-01T00:00:00",
          "1953-03-01T00:00:00",
          "1953-04-01T00:00:00",
          "1953-05-01T00:00:00",
          "1953-06-01T00:00:00",
          "1953-07-01T00:00:00",
          "1953-08-01T00:00:00",
          "1953-09-01T00:00:00",
          "1953-10-01T00:00:00",
          "1953-11-01T00:00:00"
         ],
         "xaxis": "x",
         "y": [
          109.55415344238281,
          115.45426177978516,
          127.0821762084961,
          122.65364837646484,
          118.4051284790039,
          128.47987365722656,
          143.90350341796875,
          140.90554809570312,
          132.16993713378906,
          121.64698791503906,
          111.16259002685547,
          122.08382415771484,
          125.58468627929688,
          129.44540405273438,
          142.78346252441406,
          138.86717224121094,
          136.13412475585938,
          151.2694854736328,
          163.5524139404297,
          168.12960815429688,
          158.31234741210938,
          139.83009338378906,
          124.53150939941406,
          145.83529663085938,
          144.61605834960938,
          152.44361877441406,
          168.6705780029297,
          160.19493103027344,
          162.24940490722656,
          182.04872131347656,
          189.52557373046875,
          190.10838317871094,
          180.3520050048828,
          161.49061584472656,
          146.48033142089844,
          165.80184936523438,
          172.7111358642578,
          183.5109405517578,
          198.79188537597656,
          190.59683227539062,
          186.12173461914062,
          206.3823699951172,
          226.7763671875,
          234.3897705078125,
          208.0301055908203,
          187.215087890625,
          171.8863067626953,
          190.8147430419922,
          198.44723510742188,
          208.08103942871094,
          231.6510009765625,
          216.15365600585938,
          225.67587280273438,
          241.01187133789062,
          258.27423095703125,
          269.7309875488281,
          251.64044189453125,
          223.1231689453125,
          199.46365356445312
         ],
         "yaxis": "y"
        }
       ],
       "layout": {
        "legend": {
         "title": {
          "text": "variable"
         },
         "tracegroupgap": 0
        },
        "margin": {
         "t": 60
        },
        "shapes": [
         {
          "fillcolor": "grey",
          "line": {
           "width": 0
          },
          "opacity": 0.25,
          "type": "rect",
          "x0": "1953-01-01",
          "x1": "1953-11-01",
          "xref": "x",
          "y0": 0,
          "y1": 1,
          "yref": "y domain"
         }
        ],
        "template": {
         "data": {
          "bar": [
           {
            "error_x": {
             "color": "#f2f5fa"
            },
            "error_y": {
             "color": "#f2f5fa"
            },
            "marker": {
             "line": {
              "color": "rgb(17,17,17)",
              "width": 0.5
             },
             "pattern": {
              "fillmode": "overlay",
              "size": 10,
              "solidity": 0.2
             }
            },
            "type": "bar"
           }
          ],
          "barpolar": [
           {
            "marker": {
             "line": {
              "color": "rgb(17,17,17)",
              "width": 0.5
             },
             "pattern": {
              "fillmode": "overlay",
              "size": 10,
              "solidity": 0.2
             }
            },
            "type": "barpolar"
           }
          ],
          "carpet": [
           {
            "aaxis": {
             "endlinecolor": "#A2B1C6",
             "gridcolor": "#506784",
             "linecolor": "#506784",
             "minorgridcolor": "#506784",
             "startlinecolor": "#A2B1C6"
            },
            "baxis": {
             "endlinecolor": "#A2B1C6",
             "gridcolor": "#506784",
             "linecolor": "#506784",
             "minorgridcolor": "#506784",
             "startlinecolor": "#A2B1C6"
            },
            "type": "carpet"
           }
          ],
          "choropleth": [
           {
            "colorbar": {
             "outlinewidth": 0,
             "ticks": ""
            },
            "type": "choropleth"
           }
          ],
          "contour": [
           {
            "colorbar": {
             "outlinewidth": 0,
             "ticks": ""
            },
            "colorscale": [
             [
              0,
              "#0d0887"
             ],
             [
              0.1111111111111111,
              "#46039f"
             ],
             [
              0.2222222222222222,
              "#7201a8"
             ],
             [
              0.3333333333333333,
              "#9c179e"
             ],
             [
              0.4444444444444444,
              "#bd3786"
             ],
             [
              0.5555555555555556,
              "#d8576b"
             ],
             [
              0.6666666666666666,
              "#ed7953"
             ],
             [
              0.7777777777777778,
              "#fb9f3a"
             ],
             [
              0.8888888888888888,
              "#fdca26"
             ],
             [
              1,
              "#f0f921"
             ]
            ],
            "type": "contour"
           }
          ],
          "contourcarpet": [
           {
            "colorbar": {
             "outlinewidth": 0,
             "ticks": ""
            },
            "type": "contourcarpet"
           }
          ],
          "heatmap": [
           {
            "colorbar": {
             "outlinewidth": 0,
             "ticks": ""
            },
            "colorscale": [
             [
              0,
              "#0d0887"
             ],
             [
              0.1111111111111111,
              "#46039f"
             ],
             [
              0.2222222222222222,
              "#7201a8"
             ],
             [
              0.3333333333333333,
              "#9c179e"
             ],
             [
              0.4444444444444444,
              "#bd3786"
             ],
             [
              0.5555555555555556,
              "#d8576b"
             ],
             [
              0.6666666666666666,
              "#ed7953"
             ],
             [
              0.7777777777777778,
              "#fb9f3a"
             ],
             [
              0.8888888888888888,
              "#fdca26"
             ],
             [
              1,
              "#f0f921"
             ]
            ],
            "type": "heatmap"
           }
          ],
          "heatmapgl": [
           {
            "colorbar": {
             "outlinewidth": 0,
             "ticks": ""
            },
            "colorscale": [
             [
              0,
              "#0d0887"
             ],
             [
              0.1111111111111111,
              "#46039f"
             ],
             [
              0.2222222222222222,
              "#7201a8"
             ],
             [
              0.3333333333333333,
              "#9c179e"
             ],
             [
              0.4444444444444444,
              "#bd3786"
             ],
             [
              0.5555555555555556,
              "#d8576b"
             ],
             [
              0.6666666666666666,
              "#ed7953"
             ],
             [
              0.7777777777777778,
              "#fb9f3a"
             ],
             [
              0.8888888888888888,
              "#fdca26"
             ],
             [
              1,
              "#f0f921"
             ]
            ],
            "type": "heatmapgl"
           }
          ],
          "histogram": [
           {
            "marker": {
             "pattern": {
              "fillmode": "overlay",
              "size": 10,
              "solidity": 0.2
             }
            },
            "type": "histogram"
           }
          ],
          "histogram2d": [
           {
            "colorbar": {
             "outlinewidth": 0,
             "ticks": ""
            },
            "colorscale": [
             [
              0,
              "#0d0887"
             ],
             [
              0.1111111111111111,
              "#46039f"
             ],
             [
              0.2222222222222222,
              "#7201a8"
             ],
             [
              0.3333333333333333,
              "#9c179e"
             ],
             [
              0.4444444444444444,
              "#bd3786"
             ],
             [
              0.5555555555555556,
              "#d8576b"
             ],
             [
              0.6666666666666666,
              "#ed7953"
             ],
             [
              0.7777777777777778,
              "#fb9f3a"
             ],
             [
              0.8888888888888888,
              "#fdca26"
             ],
             [
              1,
              "#f0f921"
             ]
            ],
            "type": "histogram2d"
           }
          ],
          "histogram2dcontour": [
           {
            "colorbar": {
             "outlinewidth": 0,
             "ticks": ""
            },
            "colorscale": [
             [
              0,
              "#0d0887"
             ],
             [
              0.1111111111111111,
              "#46039f"
             ],
             [
              0.2222222222222222,
              "#7201a8"
             ],
             [
              0.3333333333333333,
              "#9c179e"
             ],
             [
              0.4444444444444444,
              "#bd3786"
             ],
             [
              0.5555555555555556,
              "#d8576b"
             ],
             [
              0.6666666666666666,
              "#ed7953"
             ],
             [
              0.7777777777777778,
              "#fb9f3a"
             ],
             [
              0.8888888888888888,
              "#fdca26"
             ],
             [
              1,
              "#f0f921"
             ]
            ],
            "type": "histogram2dcontour"
           }
          ],
          "mesh3d": [
           {
            "colorbar": {
             "outlinewidth": 0,
             "ticks": ""
            },
            "type": "mesh3d"
           }
          ],
          "parcoords": [
           {
            "line": {
             "colorbar": {
              "outlinewidth": 0,
              "ticks": ""
             }
            },
            "type": "parcoords"
           }
          ],
          "pie": [
           {
            "automargin": true,
            "type": "pie"
           }
          ],
          "scatter": [
           {
            "marker": {
             "line": {
              "color": "#283442"
             }
            },
            "type": "scatter"
           }
          ],
          "scatter3d": [
           {
            "line": {
             "colorbar": {
              "outlinewidth": 0,
              "ticks": ""
             }
            },
            "marker": {
             "colorbar": {
              "outlinewidth": 0,
              "ticks": ""
             }
            },
            "type": "scatter3d"
           }
          ],
          "scattercarpet": [
           {
            "marker": {
             "colorbar": {
              "outlinewidth": 0,
              "ticks": ""
             }
            },
            "type": "scattercarpet"
           }
          ],
          "scattergeo": [
           {
            "marker": {
             "colorbar": {
              "outlinewidth": 0,
              "ticks": ""
             }
            },
            "type": "scattergeo"
           }
          ],
          "scattergl": [
           {
            "marker": {
             "line": {
              "color": "#283442"
             }
            },
            "type": "scattergl"
           }
          ],
          "scattermapbox": [
           {
            "marker": {
             "colorbar": {
              "outlinewidth": 0,
              "ticks": ""
             }
            },
            "type": "scattermapbox"
           }
          ],
          "scatterpolar": [
           {
            "marker": {
             "colorbar": {
              "outlinewidth": 0,
              "ticks": ""
             }
            },
            "type": "scatterpolar"
           }
          ],
          "scatterpolargl": [
           {
            "marker": {
             "colorbar": {
              "outlinewidth": 0,
              "ticks": ""
             }
            },
            "type": "scatterpolargl"
           }
          ],
          "scatterternary": [
           {
            "marker": {
             "colorbar": {
              "outlinewidth": 0,
              "ticks": ""
             }
            },
            "type": "scatterternary"
           }
          ],
          "surface": [
           {
            "colorbar": {
             "outlinewidth": 0,
             "ticks": ""
            },
            "colorscale": [
             [
              0,
              "#0d0887"
             ],
             [
              0.1111111111111111,
              "#46039f"
             ],
             [
              0.2222222222222222,
              "#7201a8"
             ],
             [
              0.3333333333333333,
              "#9c179e"
             ],
             [
              0.4444444444444444,
              "#bd3786"
             ],
             [
              0.5555555555555556,
              "#d8576b"
             ],
             [
              0.6666666666666666,
              "#ed7953"
             ],
             [
              0.7777777777777778,
              "#fb9f3a"
             ],
             [
              0.8888888888888888,
              "#fdca26"
             ],
             [
              1,
              "#f0f921"
             ]
            ],
            "type": "surface"
           }
          ],
          "table": [
           {
            "cells": {
             "fill": {
              "color": "#506784"
             },
             "line": {
              "color": "rgb(17,17,17)"
             }
            },
            "header": {
             "fill": {
              "color": "#2a3f5f"
             },
             "line": {
              "color": "rgb(17,17,17)"
             }
            },
            "type": "table"
           }
          ]
         },
         "layout": {
          "annotationdefaults": {
           "arrowcolor": "#f2f5fa",
           "arrowhead": 0,
           "arrowwidth": 1
          },
          "autotypenumbers": "strict",
          "coloraxis": {
           "colorbar": {
            "outlinewidth": 0,
            "ticks": ""
           }
          },
          "colorscale": {
           "diverging": [
            [
             0,
             "#8e0152"
            ],
            [
             0.1,
             "#c51b7d"
            ],
            [
             0.2,
             "#de77ae"
            ],
            [
             0.3,
             "#f1b6da"
            ],
            [
             0.4,
             "#fde0ef"
            ],
            [
             0.5,
             "#f7f7f7"
            ],
            [
             0.6,
             "#e6f5d0"
            ],
            [
             0.7,
             "#b8e186"
            ],
            [
             0.8,
             "#7fbc41"
            ],
            [
             0.9,
             "#4d9221"
            ],
            [
             1,
             "#276419"
            ]
           ],
           "sequential": [
            [
             0,
             "#0d0887"
            ],
            [
             0.1111111111111111,
             "#46039f"
            ],
            [
             0.2222222222222222,
             "#7201a8"
            ],
            [
             0.3333333333333333,
             "#9c179e"
            ],
            [
             0.4444444444444444,
             "#bd3786"
            ],
            [
             0.5555555555555556,
             "#d8576b"
            ],
            [
             0.6666666666666666,
             "#ed7953"
            ],
            [
             0.7777777777777778,
             "#fb9f3a"
            ],
            [
             0.8888888888888888,
             "#fdca26"
            ],
            [
             1,
             "#f0f921"
            ]
           ],
           "sequentialminus": [
            [
             0,
             "#0d0887"
            ],
            [
             0.1111111111111111,
             "#46039f"
            ],
            [
             0.2222222222222222,
             "#7201a8"
            ],
            [
             0.3333333333333333,
             "#9c179e"
            ],
            [
             0.4444444444444444,
             "#bd3786"
            ],
            [
             0.5555555555555556,
             "#d8576b"
            ],
            [
             0.6666666666666666,
             "#ed7953"
            ],
            [
             0.7777777777777778,
             "#fb9f3a"
            ],
            [
             0.8888888888888888,
             "#fdca26"
            ],
            [
             1,
             "#f0f921"
            ]
           ]
          },
          "colorway": [
           "#636efa",
           "#EF553B",
           "#00cc96",
           "#ab63fa",
           "#FFA15A",
           "#19d3f3",
           "#FF6692",
           "#B6E880",
           "#FF97FF",
           "#FECB52"
          ],
          "font": {
           "color": "#f2f5fa"
          },
          "geo": {
           "bgcolor": "rgb(17,17,17)",
           "lakecolor": "rgb(17,17,17)",
           "landcolor": "rgb(17,17,17)",
           "showlakes": true,
           "showland": true,
           "subunitcolor": "#506784"
          },
          "hoverlabel": {
           "align": "left"
          },
          "hovermode": "closest",
          "mapbox": {
           "style": "dark"
          },
          "paper_bgcolor": "rgb(17,17,17)",
          "plot_bgcolor": "rgb(17,17,17)",
          "polar": {
           "angularaxis": {
            "gridcolor": "#506784",
            "linecolor": "#506784",
            "ticks": ""
           },
           "bgcolor": "rgb(17,17,17)",
           "radialaxis": {
            "gridcolor": "#506784",
            "linecolor": "#506784",
            "ticks": ""
           }
          },
          "scene": {
           "xaxis": {
            "backgroundcolor": "rgb(17,17,17)",
            "gridcolor": "#506784",
            "gridwidth": 2,
            "linecolor": "#506784",
            "showbackground": true,
            "ticks": "",
            "zerolinecolor": "#C8D4E3"
           },
           "yaxis": {
            "backgroundcolor": "rgb(17,17,17)",
            "gridcolor": "#506784",
            "gridwidth": 2,
            "linecolor": "#506784",
            "showbackground": true,
            "ticks": "",
            "zerolinecolor": "#C8D4E3"
           },
           "zaxis": {
            "backgroundcolor": "rgb(17,17,17)",
            "gridcolor": "#506784",
            "gridwidth": 2,
            "linecolor": "#506784",
            "showbackground": true,
            "ticks": "",
            "zerolinecolor": "#C8D4E3"
           }
          },
          "shapedefaults": {
           "line": {
            "color": "#f2f5fa"
           }
          },
          "sliderdefaults": {
           "bgcolor": "#C8D4E3",
           "bordercolor": "rgb(17,17,17)",
           "borderwidth": 1,
           "tickwidth": 0
          },
          "ternary": {
           "aaxis": {
            "gridcolor": "#506784",
            "linecolor": "#506784",
            "ticks": ""
           },
           "baxis": {
            "gridcolor": "#506784",
            "linecolor": "#506784",
            "ticks": ""
           },
           "bgcolor": "rgb(17,17,17)",
           "caxis": {
            "gridcolor": "#506784",
            "linecolor": "#506784",
            "ticks": ""
           }
          },
          "title": {
           "x": 0.05
          },
          "updatemenudefaults": {
           "bgcolor": "#506784",
           "borderwidth": 0
          },
          "xaxis": {
           "automargin": true,
           "gridcolor": "#283442",
           "linecolor": "#506784",
           "ticks": "",
           "title": {
            "standoff": 15
           },
           "zerolinecolor": "#283442",
           "zerolinewidth": 2
          },
          "yaxis": {
           "automargin": true,
           "gridcolor": "#283442",
           "linecolor": "#506784",
           "ticks": "",
           "title": {
            "standoff": 15
           },
           "zerolinecolor": "#283442",
           "zerolinewidth": 2
          }
         }
        },
        "xaxis": {
         "anchor": "y",
         "domain": [
          0,
          1
         ],
         "title": {
          "text": "Date"
         }
        },
        "yaxis": {
         "anchor": "x",
         "domain": [
          0,
          1
         ],
         "title": {
          "text": "value"
         }
        }
       }
      }
     },
     "metadata": {},
     "output_type": "display_data"
    }
   ],
   "source": [
    "import plotly.express as px\n",
    "# generate predictions on the original dataset**\n",
    "predictions = predict_model(best, data=data)\n",
    "\n",
    "# add a date column in the dataset**\n",
    "predictions['Date'] = pd.date_range(start='1949-01-01', end = '1953-11-01', freq = 'MS')\n",
    "\n",
    "# line plot**\n",
    "fig = px.line(predictions, x='Date', y=[\"#Passengers\", \"Label\"], template = 'plotly_dark')\n",
    "\n",
    "# add a vertical rectange for test-set separation**\n",
    "fig.add_vrect(x0=\"1953-01-01\", x1=\"1953-11-01\", fillcolor=\"grey\", opacity=0.25, line_width=0)\n",
    "fig.show()"
   ]
  }
 ],
 "metadata": {
  "kernelspec": {
   "display_name": "Python 3.7.15 ('AutoML')",
   "language": "python",
   "name": "python3"
  },
  "language_info": {
   "codemirror_mode": {
    "name": "ipython",
    "version": 3
   },
   "file_extension": ".py",
   "mimetype": "text/x-python",
   "name": "python",
   "nbconvert_exporter": "python",
   "pygments_lexer": "ipython3",
   "version": "3.7.15"
  },
  "orig_nbformat": 4,
  "vscode": {
   "interpreter": {
    "hash": "dafa3bb0393348ed27662d07c146683846846afb1a1c8e20fb06ea3f616dd5c1"
   }
  }
 },
 "nbformat": 4,
 "nbformat_minor": 2
}
